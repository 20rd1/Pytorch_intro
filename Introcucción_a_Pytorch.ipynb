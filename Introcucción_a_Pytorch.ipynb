{
  "nbformat": 4,
  "nbformat_minor": 0,
  "metadata": {
    "colab": {
      "name": "Introcucción a Pytorch.ipynb",
      "provenance": []
    },
    "kernelspec": {
      "name": "python3",
      "display_name": "Python 3"
    },
    "language_info": {
      "name": "python"
    },
    "accelerator": "GPU",
    "widgets": {
      "application/vnd.jupyter.widget-state+json": {
        "b7ed5fcbfee443339c38eb0ce8c20b47": {
          "model_module": "@jupyter-widgets/controls",
          "model_name": "HBoxModel",
          "state": {
            "_view_name": "HBoxView",
            "_dom_classes": [],
            "_model_name": "HBoxModel",
            "_view_module": "@jupyter-widgets/controls",
            "_model_module_version": "1.5.0",
            "_view_count": null,
            "_view_module_version": "1.5.0",
            "box_style": "",
            "layout": "IPY_MODEL_aae29597ffd74502bd9168e51a4d50cd",
            "_model_module": "@jupyter-widgets/controls",
            "children": [
              "IPY_MODEL_c776616c074543f49ac2189bf9a1b546",
              "IPY_MODEL_256c72a6d46149cdb4078522a33de584"
            ]
          }
        },
        "aae29597ffd74502bd9168e51a4d50cd": {
          "model_module": "@jupyter-widgets/base",
          "model_name": "LayoutModel",
          "state": {
            "_view_name": "LayoutView",
            "grid_template_rows": null,
            "right": null,
            "justify_content": null,
            "_view_module": "@jupyter-widgets/base",
            "overflow": null,
            "_model_module_version": "1.2.0",
            "_view_count": null,
            "flex_flow": null,
            "width": null,
            "min_width": null,
            "border": null,
            "align_items": null,
            "bottom": null,
            "_model_module": "@jupyter-widgets/base",
            "top": null,
            "grid_column": null,
            "overflow_y": null,
            "overflow_x": null,
            "grid_auto_flow": null,
            "grid_area": null,
            "grid_template_columns": null,
            "flex": null,
            "_model_name": "LayoutModel",
            "justify_items": null,
            "grid_row": null,
            "max_height": null,
            "align_content": null,
            "visibility": null,
            "align_self": null,
            "height": null,
            "min_height": null,
            "padding": null,
            "grid_auto_rows": null,
            "grid_gap": null,
            "max_width": null,
            "order": null,
            "_view_module_version": "1.2.0",
            "grid_template_areas": null,
            "object_position": null,
            "object_fit": null,
            "grid_auto_columns": null,
            "margin": null,
            "display": null,
            "left": null
          }
        },
        "c776616c074543f49ac2189bf9a1b546": {
          "model_module": "@jupyter-widgets/controls",
          "model_name": "FloatProgressModel",
          "state": {
            "_view_name": "ProgressView",
            "style": "IPY_MODEL_fc743ea59a47431aa2c0499811fddac8",
            "_dom_classes": [],
            "description": "",
            "_model_name": "FloatProgressModel",
            "bar_style": "success",
            "max": 9912422,
            "_view_module": "@jupyter-widgets/controls",
            "_model_module_version": "1.5.0",
            "value": 9912422,
            "_view_count": null,
            "_view_module_version": "1.5.0",
            "orientation": "horizontal",
            "min": 0,
            "description_tooltip": null,
            "_model_module": "@jupyter-widgets/controls",
            "layout": "IPY_MODEL_09436432df024200ad878b4c19ca4fcf"
          }
        },
        "256c72a6d46149cdb4078522a33de584": {
          "model_module": "@jupyter-widgets/controls",
          "model_name": "HTMLModel",
          "state": {
            "_view_name": "HTMLView",
            "style": "IPY_MODEL_99f5518a3e204e2d812eff6769a810a0",
            "_dom_classes": [],
            "description": "",
            "_model_name": "HTMLModel",
            "placeholder": "​",
            "_view_module": "@jupyter-widgets/controls",
            "_model_module_version": "1.5.0",
            "value": " 9913344/? [07:29&lt;00:00, 22040.02it/s]",
            "_view_count": null,
            "_view_module_version": "1.5.0",
            "description_tooltip": null,
            "_model_module": "@jupyter-widgets/controls",
            "layout": "IPY_MODEL_8bb2343dd722420a829a7a8b79a2b332"
          }
        },
        "fc743ea59a47431aa2c0499811fddac8": {
          "model_module": "@jupyter-widgets/controls",
          "model_name": "ProgressStyleModel",
          "state": {
            "_view_name": "StyleView",
            "_model_name": "ProgressStyleModel",
            "description_width": "initial",
            "_view_module": "@jupyter-widgets/base",
            "_model_module_version": "1.5.0",
            "_view_count": null,
            "_view_module_version": "1.2.0",
            "bar_color": null,
            "_model_module": "@jupyter-widgets/controls"
          }
        },
        "09436432df024200ad878b4c19ca4fcf": {
          "model_module": "@jupyter-widgets/base",
          "model_name": "LayoutModel",
          "state": {
            "_view_name": "LayoutView",
            "grid_template_rows": null,
            "right": null,
            "justify_content": null,
            "_view_module": "@jupyter-widgets/base",
            "overflow": null,
            "_model_module_version": "1.2.0",
            "_view_count": null,
            "flex_flow": null,
            "width": null,
            "min_width": null,
            "border": null,
            "align_items": null,
            "bottom": null,
            "_model_module": "@jupyter-widgets/base",
            "top": null,
            "grid_column": null,
            "overflow_y": null,
            "overflow_x": null,
            "grid_auto_flow": null,
            "grid_area": null,
            "grid_template_columns": null,
            "flex": null,
            "_model_name": "LayoutModel",
            "justify_items": null,
            "grid_row": null,
            "max_height": null,
            "align_content": null,
            "visibility": null,
            "align_self": null,
            "height": null,
            "min_height": null,
            "padding": null,
            "grid_auto_rows": null,
            "grid_gap": null,
            "max_width": null,
            "order": null,
            "_view_module_version": "1.2.0",
            "grid_template_areas": null,
            "object_position": null,
            "object_fit": null,
            "grid_auto_columns": null,
            "margin": null,
            "display": null,
            "left": null
          }
        },
        "99f5518a3e204e2d812eff6769a810a0": {
          "model_module": "@jupyter-widgets/controls",
          "model_name": "DescriptionStyleModel",
          "state": {
            "_view_name": "StyleView",
            "_model_name": "DescriptionStyleModel",
            "description_width": "",
            "_view_module": "@jupyter-widgets/base",
            "_model_module_version": "1.5.0",
            "_view_count": null,
            "_view_module_version": "1.2.0",
            "_model_module": "@jupyter-widgets/controls"
          }
        },
        "8bb2343dd722420a829a7a8b79a2b332": {
          "model_module": "@jupyter-widgets/base",
          "model_name": "LayoutModel",
          "state": {
            "_view_name": "LayoutView",
            "grid_template_rows": null,
            "right": null,
            "justify_content": null,
            "_view_module": "@jupyter-widgets/base",
            "overflow": null,
            "_model_module_version": "1.2.0",
            "_view_count": null,
            "flex_flow": null,
            "width": null,
            "min_width": null,
            "border": null,
            "align_items": null,
            "bottom": null,
            "_model_module": "@jupyter-widgets/base",
            "top": null,
            "grid_column": null,
            "overflow_y": null,
            "overflow_x": null,
            "grid_auto_flow": null,
            "grid_area": null,
            "grid_template_columns": null,
            "flex": null,
            "_model_name": "LayoutModel",
            "justify_items": null,
            "grid_row": null,
            "max_height": null,
            "align_content": null,
            "visibility": null,
            "align_self": null,
            "height": null,
            "min_height": null,
            "padding": null,
            "grid_auto_rows": null,
            "grid_gap": null,
            "max_width": null,
            "order": null,
            "_view_module_version": "1.2.0",
            "grid_template_areas": null,
            "object_position": null,
            "object_fit": null,
            "grid_auto_columns": null,
            "margin": null,
            "display": null,
            "left": null
          }
        },
        "3fe9e874fc8d4adf93cf7795cbcb36b4": {
          "model_module": "@jupyter-widgets/controls",
          "model_name": "HBoxModel",
          "state": {
            "_view_name": "HBoxView",
            "_dom_classes": [],
            "_model_name": "HBoxModel",
            "_view_module": "@jupyter-widgets/controls",
            "_model_module_version": "1.5.0",
            "_view_count": null,
            "_view_module_version": "1.5.0",
            "box_style": "",
            "layout": "IPY_MODEL_91690601cf5648deb7afce59371abac4",
            "_model_module": "@jupyter-widgets/controls",
            "children": [
              "IPY_MODEL_c16f868427174d1aaa4a096797e7d7b9",
              "IPY_MODEL_ed4324a9c04249efbb77bf8ee16462e8"
            ]
          }
        },
        "91690601cf5648deb7afce59371abac4": {
          "model_module": "@jupyter-widgets/base",
          "model_name": "LayoutModel",
          "state": {
            "_view_name": "LayoutView",
            "grid_template_rows": null,
            "right": null,
            "justify_content": null,
            "_view_module": "@jupyter-widgets/base",
            "overflow": null,
            "_model_module_version": "1.2.0",
            "_view_count": null,
            "flex_flow": null,
            "width": null,
            "min_width": null,
            "border": null,
            "align_items": null,
            "bottom": null,
            "_model_module": "@jupyter-widgets/base",
            "top": null,
            "grid_column": null,
            "overflow_y": null,
            "overflow_x": null,
            "grid_auto_flow": null,
            "grid_area": null,
            "grid_template_columns": null,
            "flex": null,
            "_model_name": "LayoutModel",
            "justify_items": null,
            "grid_row": null,
            "max_height": null,
            "align_content": null,
            "visibility": null,
            "align_self": null,
            "height": null,
            "min_height": null,
            "padding": null,
            "grid_auto_rows": null,
            "grid_gap": null,
            "max_width": null,
            "order": null,
            "_view_module_version": "1.2.0",
            "grid_template_areas": null,
            "object_position": null,
            "object_fit": null,
            "grid_auto_columns": null,
            "margin": null,
            "display": null,
            "left": null
          }
        },
        "c16f868427174d1aaa4a096797e7d7b9": {
          "model_module": "@jupyter-widgets/controls",
          "model_name": "FloatProgressModel",
          "state": {
            "_view_name": "ProgressView",
            "style": "IPY_MODEL_7143b62845314710bd1950805f58295b",
            "_dom_classes": [],
            "description": "",
            "_model_name": "FloatProgressModel",
            "bar_style": "success",
            "max": 28881,
            "_view_module": "@jupyter-widgets/controls",
            "_model_module_version": "1.5.0",
            "value": 28881,
            "_view_count": null,
            "_view_module_version": "1.5.0",
            "orientation": "horizontal",
            "min": 0,
            "description_tooltip": null,
            "_model_module": "@jupyter-widgets/controls",
            "layout": "IPY_MODEL_864882e672ad40bd9858fdbf668cc85b"
          }
        },
        "ed4324a9c04249efbb77bf8ee16462e8": {
          "model_module": "@jupyter-widgets/controls",
          "model_name": "HTMLModel",
          "state": {
            "_view_name": "HTMLView",
            "style": "IPY_MODEL_f15f166f05034d77b7397a50e5dd4b28",
            "_dom_classes": [],
            "description": "",
            "_model_name": "HTMLModel",
            "placeholder": "​",
            "_view_module": "@jupyter-widgets/controls",
            "_model_module_version": "1.5.0",
            "value": " 29696/? [00:13&lt;00:00, 2155.95it/s]",
            "_view_count": null,
            "_view_module_version": "1.5.0",
            "description_tooltip": null,
            "_model_module": "@jupyter-widgets/controls",
            "layout": "IPY_MODEL_d39a3e4d0fb94ab5aeb00ba42cc2d02b"
          }
        },
        "7143b62845314710bd1950805f58295b": {
          "model_module": "@jupyter-widgets/controls",
          "model_name": "ProgressStyleModel",
          "state": {
            "_view_name": "StyleView",
            "_model_name": "ProgressStyleModel",
            "description_width": "initial",
            "_view_module": "@jupyter-widgets/base",
            "_model_module_version": "1.5.0",
            "_view_count": null,
            "_view_module_version": "1.2.0",
            "bar_color": null,
            "_model_module": "@jupyter-widgets/controls"
          }
        },
        "864882e672ad40bd9858fdbf668cc85b": {
          "model_module": "@jupyter-widgets/base",
          "model_name": "LayoutModel",
          "state": {
            "_view_name": "LayoutView",
            "grid_template_rows": null,
            "right": null,
            "justify_content": null,
            "_view_module": "@jupyter-widgets/base",
            "overflow": null,
            "_model_module_version": "1.2.0",
            "_view_count": null,
            "flex_flow": null,
            "width": null,
            "min_width": null,
            "border": null,
            "align_items": null,
            "bottom": null,
            "_model_module": "@jupyter-widgets/base",
            "top": null,
            "grid_column": null,
            "overflow_y": null,
            "overflow_x": null,
            "grid_auto_flow": null,
            "grid_area": null,
            "grid_template_columns": null,
            "flex": null,
            "_model_name": "LayoutModel",
            "justify_items": null,
            "grid_row": null,
            "max_height": null,
            "align_content": null,
            "visibility": null,
            "align_self": null,
            "height": null,
            "min_height": null,
            "padding": null,
            "grid_auto_rows": null,
            "grid_gap": null,
            "max_width": null,
            "order": null,
            "_view_module_version": "1.2.0",
            "grid_template_areas": null,
            "object_position": null,
            "object_fit": null,
            "grid_auto_columns": null,
            "margin": null,
            "display": null,
            "left": null
          }
        },
        "f15f166f05034d77b7397a50e5dd4b28": {
          "model_module": "@jupyter-widgets/controls",
          "model_name": "DescriptionStyleModel",
          "state": {
            "_view_name": "StyleView",
            "_model_name": "DescriptionStyleModel",
            "description_width": "",
            "_view_module": "@jupyter-widgets/base",
            "_model_module_version": "1.5.0",
            "_view_count": null,
            "_view_module_version": "1.2.0",
            "_model_module": "@jupyter-widgets/controls"
          }
        },
        "d39a3e4d0fb94ab5aeb00ba42cc2d02b": {
          "model_module": "@jupyter-widgets/base",
          "model_name": "LayoutModel",
          "state": {
            "_view_name": "LayoutView",
            "grid_template_rows": null,
            "right": null,
            "justify_content": null,
            "_view_module": "@jupyter-widgets/base",
            "overflow": null,
            "_model_module_version": "1.2.0",
            "_view_count": null,
            "flex_flow": null,
            "width": null,
            "min_width": null,
            "border": null,
            "align_items": null,
            "bottom": null,
            "_model_module": "@jupyter-widgets/base",
            "top": null,
            "grid_column": null,
            "overflow_y": null,
            "overflow_x": null,
            "grid_auto_flow": null,
            "grid_area": null,
            "grid_template_columns": null,
            "flex": null,
            "_model_name": "LayoutModel",
            "justify_items": null,
            "grid_row": null,
            "max_height": null,
            "align_content": null,
            "visibility": null,
            "align_self": null,
            "height": null,
            "min_height": null,
            "padding": null,
            "grid_auto_rows": null,
            "grid_gap": null,
            "max_width": null,
            "order": null,
            "_view_module_version": "1.2.0",
            "grid_template_areas": null,
            "object_position": null,
            "object_fit": null,
            "grid_auto_columns": null,
            "margin": null,
            "display": null,
            "left": null
          }
        },
        "c4e2c6c2ee0149f7b270bd62cf8d787d": {
          "model_module": "@jupyter-widgets/controls",
          "model_name": "HBoxModel",
          "state": {
            "_view_name": "HBoxView",
            "_dom_classes": [],
            "_model_name": "HBoxModel",
            "_view_module": "@jupyter-widgets/controls",
            "_model_module_version": "1.5.0",
            "_view_count": null,
            "_view_module_version": "1.5.0",
            "box_style": "",
            "layout": "IPY_MODEL_0c512309e83f453e8490b4fb9bc0fac6",
            "_model_module": "@jupyter-widgets/controls",
            "children": [
              "IPY_MODEL_79754e521edf4a718734fc769a7c9bbc",
              "IPY_MODEL_28608cc975d64beaa77d3770c11ca4ed"
            ]
          }
        },
        "0c512309e83f453e8490b4fb9bc0fac6": {
          "model_module": "@jupyter-widgets/base",
          "model_name": "LayoutModel",
          "state": {
            "_view_name": "LayoutView",
            "grid_template_rows": null,
            "right": null,
            "justify_content": null,
            "_view_module": "@jupyter-widgets/base",
            "overflow": null,
            "_model_module_version": "1.2.0",
            "_view_count": null,
            "flex_flow": null,
            "width": null,
            "min_width": null,
            "border": null,
            "align_items": null,
            "bottom": null,
            "_model_module": "@jupyter-widgets/base",
            "top": null,
            "grid_column": null,
            "overflow_y": null,
            "overflow_x": null,
            "grid_auto_flow": null,
            "grid_area": null,
            "grid_template_columns": null,
            "flex": null,
            "_model_name": "LayoutModel",
            "justify_items": null,
            "grid_row": null,
            "max_height": null,
            "align_content": null,
            "visibility": null,
            "align_self": null,
            "height": null,
            "min_height": null,
            "padding": null,
            "grid_auto_rows": null,
            "grid_gap": null,
            "max_width": null,
            "order": null,
            "_view_module_version": "1.2.0",
            "grid_template_areas": null,
            "object_position": null,
            "object_fit": null,
            "grid_auto_columns": null,
            "margin": null,
            "display": null,
            "left": null
          }
        },
        "79754e521edf4a718734fc769a7c9bbc": {
          "model_module": "@jupyter-widgets/controls",
          "model_name": "FloatProgressModel",
          "state": {
            "_view_name": "ProgressView",
            "style": "IPY_MODEL_d010c990ae1541f3a291f086a236ae08",
            "_dom_classes": [],
            "description": "",
            "_model_name": "FloatProgressModel",
            "bar_style": "success",
            "max": 1648877,
            "_view_module": "@jupyter-widgets/controls",
            "_model_module_version": "1.5.0",
            "value": 1648877,
            "_view_count": null,
            "_view_module_version": "1.5.0",
            "orientation": "horizontal",
            "min": 0,
            "description_tooltip": null,
            "_model_module": "@jupyter-widgets/controls",
            "layout": "IPY_MODEL_fd3bfa68d43c4f1080675d6b07f4ea83"
          }
        },
        "28608cc975d64beaa77d3770c11ca4ed": {
          "model_module": "@jupyter-widgets/controls",
          "model_name": "HTMLModel",
          "state": {
            "_view_name": "HTMLView",
            "style": "IPY_MODEL_6034bfeb49e64064bf25e93141150b12",
            "_dom_classes": [],
            "description": "",
            "_model_name": "HTMLModel",
            "placeholder": "​",
            "_view_module": "@jupyter-widgets/controls",
            "_model_module_version": "1.5.0",
            "value": " 1649664/? [00:13&lt;00:00, 124358.51it/s]",
            "_view_count": null,
            "_view_module_version": "1.5.0",
            "description_tooltip": null,
            "_model_module": "@jupyter-widgets/controls",
            "layout": "IPY_MODEL_3c02289e357645e8a17b0be845733b6e"
          }
        },
        "d010c990ae1541f3a291f086a236ae08": {
          "model_module": "@jupyter-widgets/controls",
          "model_name": "ProgressStyleModel",
          "state": {
            "_view_name": "StyleView",
            "_model_name": "ProgressStyleModel",
            "description_width": "initial",
            "_view_module": "@jupyter-widgets/base",
            "_model_module_version": "1.5.0",
            "_view_count": null,
            "_view_module_version": "1.2.0",
            "bar_color": null,
            "_model_module": "@jupyter-widgets/controls"
          }
        },
        "fd3bfa68d43c4f1080675d6b07f4ea83": {
          "model_module": "@jupyter-widgets/base",
          "model_name": "LayoutModel",
          "state": {
            "_view_name": "LayoutView",
            "grid_template_rows": null,
            "right": null,
            "justify_content": null,
            "_view_module": "@jupyter-widgets/base",
            "overflow": null,
            "_model_module_version": "1.2.0",
            "_view_count": null,
            "flex_flow": null,
            "width": null,
            "min_width": null,
            "border": null,
            "align_items": null,
            "bottom": null,
            "_model_module": "@jupyter-widgets/base",
            "top": null,
            "grid_column": null,
            "overflow_y": null,
            "overflow_x": null,
            "grid_auto_flow": null,
            "grid_area": null,
            "grid_template_columns": null,
            "flex": null,
            "_model_name": "LayoutModel",
            "justify_items": null,
            "grid_row": null,
            "max_height": null,
            "align_content": null,
            "visibility": null,
            "align_self": null,
            "height": null,
            "min_height": null,
            "padding": null,
            "grid_auto_rows": null,
            "grid_gap": null,
            "max_width": null,
            "order": null,
            "_view_module_version": "1.2.0",
            "grid_template_areas": null,
            "object_position": null,
            "object_fit": null,
            "grid_auto_columns": null,
            "margin": null,
            "display": null,
            "left": null
          }
        },
        "6034bfeb49e64064bf25e93141150b12": {
          "model_module": "@jupyter-widgets/controls",
          "model_name": "DescriptionStyleModel",
          "state": {
            "_view_name": "StyleView",
            "_model_name": "DescriptionStyleModel",
            "description_width": "",
            "_view_module": "@jupyter-widgets/base",
            "_model_module_version": "1.5.0",
            "_view_count": null,
            "_view_module_version": "1.2.0",
            "_model_module": "@jupyter-widgets/controls"
          }
        },
        "3c02289e357645e8a17b0be845733b6e": {
          "model_module": "@jupyter-widgets/base",
          "model_name": "LayoutModel",
          "state": {
            "_view_name": "LayoutView",
            "grid_template_rows": null,
            "right": null,
            "justify_content": null,
            "_view_module": "@jupyter-widgets/base",
            "overflow": null,
            "_model_module_version": "1.2.0",
            "_view_count": null,
            "flex_flow": null,
            "width": null,
            "min_width": null,
            "border": null,
            "align_items": null,
            "bottom": null,
            "_model_module": "@jupyter-widgets/base",
            "top": null,
            "grid_column": null,
            "overflow_y": null,
            "overflow_x": null,
            "grid_auto_flow": null,
            "grid_area": null,
            "grid_template_columns": null,
            "flex": null,
            "_model_name": "LayoutModel",
            "justify_items": null,
            "grid_row": null,
            "max_height": null,
            "align_content": null,
            "visibility": null,
            "align_self": null,
            "height": null,
            "min_height": null,
            "padding": null,
            "grid_auto_rows": null,
            "grid_gap": null,
            "max_width": null,
            "order": null,
            "_view_module_version": "1.2.0",
            "grid_template_areas": null,
            "object_position": null,
            "object_fit": null,
            "grid_auto_columns": null,
            "margin": null,
            "display": null,
            "left": null
          }
        },
        "1e11bc19030f416faf57b0fa552eb4db": {
          "model_module": "@jupyter-widgets/controls",
          "model_name": "HBoxModel",
          "state": {
            "_view_name": "HBoxView",
            "_dom_classes": [],
            "_model_name": "HBoxModel",
            "_view_module": "@jupyter-widgets/controls",
            "_model_module_version": "1.5.0",
            "_view_count": null,
            "_view_module_version": "1.5.0",
            "box_style": "",
            "layout": "IPY_MODEL_1a9d31243b8c4d06be1b2aa05c96013e",
            "_model_module": "@jupyter-widgets/controls",
            "children": [
              "IPY_MODEL_17b5ac30370d49fbb2defd1b9a276d1b",
              "IPY_MODEL_d847ce1554fb4cb3a3e60fd20445e354"
            ]
          }
        },
        "1a9d31243b8c4d06be1b2aa05c96013e": {
          "model_module": "@jupyter-widgets/base",
          "model_name": "LayoutModel",
          "state": {
            "_view_name": "LayoutView",
            "grid_template_rows": null,
            "right": null,
            "justify_content": null,
            "_view_module": "@jupyter-widgets/base",
            "overflow": null,
            "_model_module_version": "1.2.0",
            "_view_count": null,
            "flex_flow": null,
            "width": null,
            "min_width": null,
            "border": null,
            "align_items": null,
            "bottom": null,
            "_model_module": "@jupyter-widgets/base",
            "top": null,
            "grid_column": null,
            "overflow_y": null,
            "overflow_x": null,
            "grid_auto_flow": null,
            "grid_area": null,
            "grid_template_columns": null,
            "flex": null,
            "_model_name": "LayoutModel",
            "justify_items": null,
            "grid_row": null,
            "max_height": null,
            "align_content": null,
            "visibility": null,
            "align_self": null,
            "height": null,
            "min_height": null,
            "padding": null,
            "grid_auto_rows": null,
            "grid_gap": null,
            "max_width": null,
            "order": null,
            "_view_module_version": "1.2.0",
            "grid_template_areas": null,
            "object_position": null,
            "object_fit": null,
            "grid_auto_columns": null,
            "margin": null,
            "display": null,
            "left": null
          }
        },
        "17b5ac30370d49fbb2defd1b9a276d1b": {
          "model_module": "@jupyter-widgets/controls",
          "model_name": "FloatProgressModel",
          "state": {
            "_view_name": "ProgressView",
            "style": "IPY_MODEL_a7635e2ce3f349f49adb7b04cdc443eb",
            "_dom_classes": [],
            "description": "",
            "_model_name": "FloatProgressModel",
            "bar_style": "success",
            "max": 4542,
            "_view_module": "@jupyter-widgets/controls",
            "_model_module_version": "1.5.0",
            "value": 4542,
            "_view_count": null,
            "_view_module_version": "1.5.0",
            "orientation": "horizontal",
            "min": 0,
            "description_tooltip": null,
            "_model_module": "@jupyter-widgets/controls",
            "layout": "IPY_MODEL_0c7af67eb45247c28a3d69d149f7a77d"
          }
        },
        "d847ce1554fb4cb3a3e60fd20445e354": {
          "model_module": "@jupyter-widgets/controls",
          "model_name": "HTMLModel",
          "state": {
            "_view_name": "HTMLView",
            "style": "IPY_MODEL_7c1eb510b8414eeaaaf0ca63eb6eec90",
            "_dom_classes": [],
            "description": "",
            "_model_name": "HTMLModel",
            "placeholder": "​",
            "_view_module": "@jupyter-widgets/controls",
            "_model_module_version": "1.5.0",
            "value": " 5120/? [04:53&lt;00:00, 17.45it/s]",
            "_view_count": null,
            "_view_module_version": "1.5.0",
            "description_tooltip": null,
            "_model_module": "@jupyter-widgets/controls",
            "layout": "IPY_MODEL_7339f32a1c9b4bdf80b37ba09ed4aa1a"
          }
        },
        "a7635e2ce3f349f49adb7b04cdc443eb": {
          "model_module": "@jupyter-widgets/controls",
          "model_name": "ProgressStyleModel",
          "state": {
            "_view_name": "StyleView",
            "_model_name": "ProgressStyleModel",
            "description_width": "initial",
            "_view_module": "@jupyter-widgets/base",
            "_model_module_version": "1.5.0",
            "_view_count": null,
            "_view_module_version": "1.2.0",
            "bar_color": null,
            "_model_module": "@jupyter-widgets/controls"
          }
        },
        "0c7af67eb45247c28a3d69d149f7a77d": {
          "model_module": "@jupyter-widgets/base",
          "model_name": "LayoutModel",
          "state": {
            "_view_name": "LayoutView",
            "grid_template_rows": null,
            "right": null,
            "justify_content": null,
            "_view_module": "@jupyter-widgets/base",
            "overflow": null,
            "_model_module_version": "1.2.0",
            "_view_count": null,
            "flex_flow": null,
            "width": null,
            "min_width": null,
            "border": null,
            "align_items": null,
            "bottom": null,
            "_model_module": "@jupyter-widgets/base",
            "top": null,
            "grid_column": null,
            "overflow_y": null,
            "overflow_x": null,
            "grid_auto_flow": null,
            "grid_area": null,
            "grid_template_columns": null,
            "flex": null,
            "_model_name": "LayoutModel",
            "justify_items": null,
            "grid_row": null,
            "max_height": null,
            "align_content": null,
            "visibility": null,
            "align_self": null,
            "height": null,
            "min_height": null,
            "padding": null,
            "grid_auto_rows": null,
            "grid_gap": null,
            "max_width": null,
            "order": null,
            "_view_module_version": "1.2.0",
            "grid_template_areas": null,
            "object_position": null,
            "object_fit": null,
            "grid_auto_columns": null,
            "margin": null,
            "display": null,
            "left": null
          }
        },
        "7c1eb510b8414eeaaaf0ca63eb6eec90": {
          "model_module": "@jupyter-widgets/controls",
          "model_name": "DescriptionStyleModel",
          "state": {
            "_view_name": "StyleView",
            "_model_name": "DescriptionStyleModel",
            "description_width": "",
            "_view_module": "@jupyter-widgets/base",
            "_model_module_version": "1.5.0",
            "_view_count": null,
            "_view_module_version": "1.2.0",
            "_model_module": "@jupyter-widgets/controls"
          }
        },
        "7339f32a1c9b4bdf80b37ba09ed4aa1a": {
          "model_module": "@jupyter-widgets/base",
          "model_name": "LayoutModel",
          "state": {
            "_view_name": "LayoutView",
            "grid_template_rows": null,
            "right": null,
            "justify_content": null,
            "_view_module": "@jupyter-widgets/base",
            "overflow": null,
            "_model_module_version": "1.2.0",
            "_view_count": null,
            "flex_flow": null,
            "width": null,
            "min_width": null,
            "border": null,
            "align_items": null,
            "bottom": null,
            "_model_module": "@jupyter-widgets/base",
            "top": null,
            "grid_column": null,
            "overflow_y": null,
            "overflow_x": null,
            "grid_auto_flow": null,
            "grid_area": null,
            "grid_template_columns": null,
            "flex": null,
            "_model_name": "LayoutModel",
            "justify_items": null,
            "grid_row": null,
            "max_height": null,
            "align_content": null,
            "visibility": null,
            "align_self": null,
            "height": null,
            "min_height": null,
            "padding": null,
            "grid_auto_rows": null,
            "grid_gap": null,
            "max_width": null,
            "order": null,
            "_view_module_version": "1.2.0",
            "grid_template_areas": null,
            "object_position": null,
            "object_fit": null,
            "grid_auto_columns": null,
            "margin": null,
            "display": null,
            "left": null
          }
        }
      }
    }
  },
  "cells": [
    {
      "cell_type": "code",
      "metadata": {
        "id": "z1-Mc67OLLRI"
      },
      "source": [
        "import torch"
      ],
      "execution_count": null,
      "outputs": []
    },
    {
      "cell_type": "code",
      "metadata": {
        "colab": {
          "base_uri": "https://localhost:8080/"
        },
        "id": "1uvgTRM3K2mr",
        "outputId": "df42dff9-aff0-4567-a3ba-7453fe32d5c7"
      },
      "source": [
        "x = torch.zeros(5,3)\n",
        "x"
      ],
      "execution_count": null,
      "outputs": [
        {
          "output_type": "execute_result",
          "data": {
            "text/plain": [
              "tensor([[0., 0., 0.],\n",
              "        [0., 0., 0.],\n",
              "        [0., 0., 0.],\n",
              "        [0., 0., 0.],\n",
              "        [0., 0., 0.]])"
            ]
          },
          "metadata": {
            "tags": []
          },
          "execution_count": 5
        }
      ]
    },
    {
      "cell_type": "code",
      "metadata": {
        "colab": {
          "base_uri": "https://localhost:8080/"
        },
        "id": "2qTdB3lngWEN",
        "outputId": "cbbdd0d7-20d2-48e5-e134-7ed8fcbff656"
      },
      "source": [
        "x = torch.empty(5,3)\n",
        "x"
      ],
      "execution_count": null,
      "outputs": [
        {
          "output_type": "execute_result",
          "data": {
            "text/plain": [
              "tensor([[-5.4778e+07,  3.0809e-41,  3.8816e-01],\n",
              "        [ 1.1493e+00,  3.8141e-01,  6.9779e-01],\n",
              "        [ 6.2388e-01,  1.0628e+00,  2.1356e+00],\n",
              "        [ 3.7987e-39,  3.9415e+12,  7.5338e+28],\n",
              "        [ 1.5975e-43,  0.0000e+00,  0.0000e+00]])"
            ]
          },
          "metadata": {
            "tags": []
          },
          "execution_count": 37
        }
      ]
    },
    {
      "cell_type": "code",
      "metadata": {
        "colab": {
          "base_uri": "https://localhost:8080/"
        },
        "id": "E3UKKkHaLBgQ",
        "outputId": "1becfbfc-8f5d-4500-d202-2122ec61f2bf"
      },
      "source": [
        "x = torch.randn(2,5,3) # dos matrices, 5 filas y 3 columnas \n",
        "x"
      ],
      "execution_count": null,
      "outputs": [
        {
          "output_type": "execute_result",
          "data": {
            "text/plain": [
              "tensor([[[-1.3337,  0.1086,  0.8138],\n",
              "         [-0.2693,  0.5768, -0.6589],\n",
              "         [ 0.4267,  0.4718,  0.2585],\n",
              "         [ 0.2498,  1.0172, -0.2370],\n",
              "         [ 1.5166,  3.0327,  1.4256]],\n",
              "\n",
              "        [[-0.7208, -1.2336, -0.4954],\n",
              "         [-0.5187,  0.0443,  1.0129],\n",
              "         [ 0.6432,  0.0513, -0.2639],\n",
              "         [ 0.2943, -0.8459, -0.9035],\n",
              "         [ 0.2677, -0.9334,  0.0207]]])"
            ]
          },
          "metadata": {
            "tags": []
          },
          "execution_count": 6
        }
      ]
    },
    {
      "cell_type": "code",
      "metadata": {
        "colab": {
          "base_uri": "https://localhost:8080/"
        },
        "id": "B9Lx2d9sLvd7",
        "outputId": "9607b0f4-85d9-4c52-ab2b-329ef4ed0e40"
      },
      "source": [
        "# Tensor apartir de lista\n",
        "\n",
        "x = torch.tensor([[1,2,3],[4,5,6]])\n",
        "x"
      ],
      "execution_count": null,
      "outputs": [
        {
          "output_type": "execute_result",
          "data": {
            "text/plain": [
              "tensor([[1, 2, 3],\n",
              "        [4, 5, 6]])"
            ]
          },
          "metadata": {
            "tags": []
          },
          "execution_count": 8
        }
      ]
    },
    {
      "cell_type": "code",
      "metadata": {
        "colab": {
          "base_uri": "https://localhost:8080/"
        },
        "id": "luzg_cqUMVPc",
        "outputId": "80c88d18-4630-4ea0-ce6f-d38a88562050"
      },
      "source": [
        "import numpy as np\n",
        "\n",
        "# tensor apartir de array\n",
        "\n",
        "a = np.array([[1,2,3],[4,5,6]])\n",
        "x= torch.from_numpy(a)\n",
        "x"
      ],
      "execution_count": null,
      "outputs": [
        {
          "output_type": "execute_result",
          "data": {
            "text/plain": [
              "tensor([[1, 2, 3],\n",
              "        [4, 5, 6]])"
            ]
          },
          "metadata": {
            "tags": []
          },
          "execution_count": 5
        }
      ]
    },
    {
      "cell_type": "markdown",
      "metadata": {
        "id": "etEiHvoYNANn"
      },
      "source": [
        "# Operaciones"
      ]
    },
    {
      "cell_type": "code",
      "metadata": {
        "colab": {
          "base_uri": "https://localhost:8080/"
        },
        "id": "80uwTWW1M2fD",
        "outputId": "d024e1a0-66e5-4e10-99e0-31c41ee2bfd6"
      },
      "source": [
        "x = torch.randn(3,3)\n",
        "y = torch.randn(3,3)\n",
        "\n",
        "x"
      ],
      "execution_count": null,
      "outputs": [
        {
          "output_type": "execute_result",
          "data": {
            "text/plain": [
              "tensor([[ 2.5213, -0.2296, -0.3882],\n",
              "        [ 1.1493,  0.3814,  0.6978],\n",
              "        [-0.6239,  1.0628, -2.1356]])"
            ]
          },
          "metadata": {
            "tags": []
          },
          "execution_count": 13
        }
      ]
    },
    {
      "cell_type": "code",
      "metadata": {
        "colab": {
          "base_uri": "https://localhost:8080/"
        },
        "id": "dPWljC5tNKiN",
        "outputId": "c22dd5a8-87c7-437e-8f0e-97eaff213b24"
      },
      "source": [
        "y"
      ],
      "execution_count": null,
      "outputs": [
        {
          "output_type": "execute_result",
          "data": {
            "text/plain": [
              "tensor([[-0.4237, -1.9332,  1.1804],\n",
              "        [-1.1774,  0.3256,  0.8784],\n",
              "        [-0.0537, -0.3784,  0.8565]])"
            ]
          },
          "metadata": {
            "tags": []
          },
          "execution_count": 14
        }
      ]
    },
    {
      "cell_type": "code",
      "metadata": {
        "colab": {
          "base_uri": "https://localhost:8080/"
        },
        "id": "NOrsdjofNWax",
        "outputId": "99c4d104-bee6-43b3-c2f7-e3b01c093936"
      },
      "source": [
        "x + y"
      ],
      "execution_count": null,
      "outputs": [
        {
          "output_type": "execute_result",
          "data": {
            "text/plain": [
              "tensor([[ 2.0976, -2.1628,  0.7922],\n",
              "        [-0.0281,  0.7070,  1.5762],\n",
              "        [-0.6775,  0.6844, -1.2791]])"
            ]
          },
          "metadata": {
            "tags": []
          },
          "execution_count": 15
        }
      ]
    },
    {
      "cell_type": "code",
      "metadata": {
        "colab": {
          "base_uri": "https://localhost:8080/"
        },
        "id": "j78I8RndNcn1",
        "outputId": "b41ab1dd-83eb-4715-c5bb-ef8772b2b35c"
      },
      "source": [
        "x-y"
      ],
      "execution_count": null,
      "outputs": [
        {
          "output_type": "execute_result",
          "data": {
            "text/plain": [
              "tensor([[ 2.9450,  1.7036, -1.5686],\n",
              "        [ 2.3267,  0.0558, -0.1806],\n",
              "        [-0.5702,  1.4411, -2.9920]])"
            ]
          },
          "metadata": {
            "tags": []
          },
          "execution_count": 16
        }
      ]
    },
    {
      "cell_type": "code",
      "metadata": {
        "colab": {
          "base_uri": "https://localhost:8080/"
        },
        "id": "fVAjrSavNfTA",
        "outputId": "405377eb-403b-4978-f84f-9b7482f2be12"
      },
      "source": [
        "x*y"
      ],
      "execution_count": null,
      "outputs": [
        {
          "output_type": "execute_result",
          "data": {
            "text/plain": [
              "tensor([[-1.0683,  0.4438, -0.4582],\n",
              "        [-1.3532,  0.1242,  0.6129],\n",
              "        [ 0.0335, -0.4021, -1.8291]])"
            ]
          },
          "metadata": {
            "tags": []
          },
          "execution_count": 17
        }
      ]
    },
    {
      "cell_type": "code",
      "metadata": {
        "colab": {
          "base_uri": "https://localhost:8080/"
        },
        "id": "00uLJNZzNld-",
        "outputId": "48efa3d6-8658-4b7b-b844-09ed0c98f42b"
      },
      "source": [
        "# indexado\n",
        "\n",
        "# primera fila\n",
        "\n",
        "x[0]"
      ],
      "execution_count": null,
      "outputs": [
        {
          "output_type": "execute_result",
          "data": {
            "text/plain": [
              "tensor([ 2.5213, -0.2296, -0.3882])"
            ]
          },
          "metadata": {
            "tags": []
          },
          "execution_count": 19
        }
      ]
    },
    {
      "cell_type": "code",
      "metadata": {
        "colab": {
          "base_uri": "https://localhost:8080/"
        },
        "id": "H1enKn_oNwls",
        "outputId": "033a14e0-d318-4090-8d13-516aaf1e6290"
      },
      "source": [
        "# primera fila, primera columna\n",
        "\n",
        "x[0,0]"
      ],
      "execution_count": null,
      "outputs": [
        {
          "output_type": "execute_result",
          "data": {
            "text/plain": [
              "tensor(2.5213)"
            ]
          },
          "metadata": {
            "tags": []
          },
          "execution_count": 20
        }
      ]
    },
    {
      "cell_type": "code",
      "metadata": {
        "colab": {
          "base_uri": "https://localhost:8080/"
        },
        "id": "MMxNL8ucN55l",
        "outputId": "8ce49b3f-ffda-4c16-b0ea-af2d1f1e4dee"
      },
      "source": [
        "# primera columna\n",
        "\n",
        "x[0,:]"
      ],
      "execution_count": null,
      "outputs": [
        {
          "output_type": "execute_result",
          "data": {
            "text/plain": [
              "tensor([ 2.5213, -0.2296, -0.3882])"
            ]
          },
          "metadata": {
            "tags": []
          },
          "execution_count": 21
        }
      ]
    },
    {
      "cell_type": "code",
      "metadata": {
        "colab": {
          "base_uri": "https://localhost:8080/"
        },
        "id": "PpzKkHgKOGUG",
        "outputId": "db8cc0e6-6ae3-4765-aa09-a6384c93d8da"
      },
      "source": [
        "# troceado\n",
        "\n",
        "x[:-1,1:]"
      ],
      "execution_count": null,
      "outputs": [
        {
          "output_type": "execute_result",
          "data": {
            "text/plain": [
              "tensor([[-0.2296, -0.3882],\n",
              "        [ 0.3814,  0.6978]])"
            ]
          },
          "metadata": {
            "tags": []
          },
          "execution_count": 25
        }
      ]
    },
    {
      "cell_type": "code",
      "metadata": {
        "colab": {
          "base_uri": "https://localhost:8080/"
        },
        "id": "LhqOyRfZOUo6",
        "outputId": "e1206726-71a0-4064-8eb9-73bc742f6050"
      },
      "source": [
        "# añadimos una dimensión extra\n",
        "x.view(1,3,3).shape"
      ],
      "execution_count": null,
      "outputs": [
        {
          "output_type": "execute_result",
          "data": {
            "text/plain": [
              "torch.Size([1, 3, 3])"
            ]
          },
          "metadata": {
            "tags": []
          },
          "execution_count": 28
        }
      ]
    },
    {
      "cell_type": "code",
      "metadata": {
        "colab": {
          "base_uri": "https://localhost:8080/"
        },
        "id": "-WldSqMDO-dr",
        "outputId": "76408f43-8919-444a-a704-1ed4ff4ef890"
      },
      "source": [
        "# estiramos en una dimensión\n",
        "x.view(9).shape"
      ],
      "execution_count": null,
      "outputs": [
        {
          "output_type": "execute_result",
          "data": {
            "text/plain": [
              "torch.Size([9])"
            ]
          },
          "metadata": {
            "tags": []
          },
          "execution_count": 32
        }
      ]
    },
    {
      "cell_type": "code",
      "metadata": {
        "colab": {
          "base_uri": "https://localhost:8080/"
        },
        "id": "o_W9s42EPOhO",
        "outputId": "fa881118-1b97-44b5-fb42-0e89578b738a"
      },
      "source": [
        "# Usamos -1 para asignar todos los valores en una sola dimensión\n",
        "x.view(-1).shape"
      ],
      "execution_count": null,
      "outputs": [
        {
          "output_type": "execute_result",
          "data": {
            "text/plain": [
              "torch.Size([9])"
            ]
          },
          "metadata": {
            "tags": []
          },
          "execution_count": 34
        }
      ]
    },
    {
      "cell_type": "code",
      "metadata": {
        "colab": {
          "base_uri": "https://localhost:8080/"
        },
        "id": "d80KUZdjPlAP",
        "outputId": "03e54922-6895-4c7a-89e1-3f18342bf214"
      },
      "source": [
        "# Para regresarlo a numpy\n",
        "\n",
        "x.numpy()"
      ],
      "execution_count": null,
      "outputs": [
        {
          "output_type": "execute_result",
          "data": {
            "text/plain": [
              "array([[ 2.5213113 , -0.22958265, -0.3881615 ],\n",
              "       [ 1.1492934 ,  0.38141128,  0.6977931 ],\n",
              "       [-0.62387985,  1.0627586 , -2.1355643 ]], dtype=float32)"
            ]
          },
          "metadata": {
            "tags": []
          },
          "execution_count": 35
        }
      ]
    },
    {
      "cell_type": "code",
      "metadata": {
        "colab": {
          "base_uri": "https://localhost:8080/"
        },
        "id": "LHeOS0VoPz5S",
        "outputId": "8ae3492a-6cf4-4ce8-f910-7b15393fb0be"
      },
      "source": [
        "x = x.new_ones(5,3, dtype=torch.double)\n",
        "x"
      ],
      "execution_count": null,
      "outputs": [
        {
          "output_type": "execute_result",
          "data": {
            "text/plain": [
              "tensor([[1., 1., 1.],\n",
              "        [1., 1., 1.],\n",
              "        [1., 1., 1.],\n",
              "        [1., 1., 1.],\n",
              "        [1., 1., 1.]], dtype=torch.float64)"
            ]
          },
          "metadata": {
            "tags": []
          },
          "execution_count": 38
        }
      ]
    },
    {
      "cell_type": "code",
      "metadata": {
        "colab": {
          "base_uri": "https://localhost:8080/"
        },
        "id": "YKTvmK4XiJIo",
        "outputId": "4529fec1-ae8e-4fde-8ddd-3c290f21af02"
      },
      "source": [
        "x =y\n",
        "result = torch.empty(5,3)\n",
        "torch.add(x,y, out=result)\n",
        "print(result)"
      ],
      "execution_count": null,
      "outputs": [
        {
          "output_type": "stream",
          "text": [
            "tensor([[-0.8474, -3.8664,  2.3608],\n",
            "        [-2.3548,  0.6511,  1.7567],\n",
            "        [-0.1073, -0.7568,  1.7130]])\n"
          ],
          "name": "stdout"
        },
        {
          "output_type": "stream",
          "text": [
            "/usr/local/lib/python3.7/dist-packages/ipykernel_launcher.py:3: UserWarning: An output with one or more elements was resized since it had shape [5, 3], which does not match the required output shape [3, 3].This behavior is deprecated, and in a future PyTorch release outputs will not be resized unless they have zero elements. You can explicitly reuse an out tensor t by resizing it, inplace, to zero elements with t.resize_(0). (Triggered internally at  /pytorch/aten/src/ATen/native/Resize.cpp:19.)\n",
            "  This is separate from the ipykernel package so we can avoid doing imports until\n"
          ],
          "name": "stderr"
        }
      ]
    },
    {
      "cell_type": "code",
      "metadata": {
        "colab": {
          "base_uri": "https://localhost:8080/"
        },
        "id": "mHtmZLiFi-h5",
        "outputId": "b481904f-e513-4cda-d1ad-dcf1de27dbb2"
      },
      "source": [
        "# addition: in-place\n",
        "y.add_(x)"
      ],
      "execution_count": null,
      "outputs": [
        {
          "output_type": "execute_result",
          "data": {
            "text/plain": [
              "tensor([[-13.5589, -61.8626,  37.7727],\n",
              "        [-37.6772,  10.4181,  28.1080],\n",
              "        [ -1.7168, -12.1080,  27.4075]])"
            ]
          },
          "metadata": {
            "tags": []
          },
          "execution_count": 51
        }
      ]
    },
    {
      "cell_type": "code",
      "metadata": {
        "colab": {
          "base_uri": "https://localhost:8080/"
        },
        "id": "HUZmxpo7jZCi",
        "outputId": "cb929cdf-5663-4680-807c-7313b1a3bd9e"
      },
      "source": [
        "y"
      ],
      "execution_count": null,
      "outputs": [
        {
          "output_type": "execute_result",
          "data": {
            "text/plain": [
              "tensor([[ -3.3897, -15.4656,   9.4432],\n",
              "        [ -9.4193,   2.6045,   7.0270],\n",
              "        [ -0.4292,  -3.0270,   6.8519]])"
            ]
          },
          "metadata": {
            "tags": []
          },
          "execution_count": 49
        }
      ]
    },
    {
      "cell_type": "code",
      "metadata": {
        "colab": {
          "base_uri": "https://localhost:8080/"
        },
        "id": "gaXWNffCjbwh",
        "outputId": "5c1dfd63-320a-4acd-e2df-e3c633a91d65"
      },
      "source": [
        "y.copy_(x)"
      ],
      "execution_count": null,
      "outputs": [
        {
          "output_type": "execute_result",
          "data": {
            "text/plain": [
              "tensor([[-13.5589, -61.8626,  37.7727],\n",
              "        [-37.6772,  10.4181,  28.1080],\n",
              "        [ -1.7168, -12.1080,  27.4075]])"
            ]
          },
          "metadata": {
            "tags": []
          },
          "execution_count": 55
        }
      ]
    },
    {
      "cell_type": "code",
      "metadata": {
        "colab": {
          "base_uri": "https://localhost:8080/"
        },
        "id": "ZZYXcD5BkTD1",
        "outputId": "8b3df12d-b0c1-4722-f162-222231ed122d"
      },
      "source": [
        "x"
      ],
      "execution_count": null,
      "outputs": [
        {
          "output_type": "execute_result",
          "data": {
            "text/plain": [
              "tensor([[-13.5589, -61.8626,  37.7727],\n",
              "        [-37.6772,  10.4181,  28.1080],\n",
              "        [ -1.7168, -12.1080,  27.4075]])"
            ]
          },
          "metadata": {
            "tags": []
          },
          "execution_count": 56
        }
      ]
    },
    {
      "cell_type": "markdown",
      "metadata": {
        "id": "bXi4xKjV3yG7"
      },
      "source": [
        "# Descenso del gradiente"
      ]
    },
    {
      "cell_type": "code",
      "metadata": {
        "id": "WLEGsg6N31XK"
      },
      "source": [
        "x = torch.tensor(1.,requires_grad=True)\n",
        "y = torch.tensor(2., requires_grad=True)\n",
        "p = x + y\n",
        "\n",
        "z = torch.tensor(3., requires_grad=True)\n",
        "g = p * z"
      ],
      "execution_count": null,
      "outputs": []
    },
    {
      "cell_type": "code",
      "metadata": {
        "id": "BhXRd86R4MPs"
      },
      "source": [
        "# Aplicamos las derivadas a la matriz g\n",
        "g.backward()"
      ],
      "execution_count": null,
      "outputs": []
    },
    {
      "cell_type": "code",
      "metadata": {
        "colab": {
          "base_uri": "https://localhost:8080/"
        },
        "id": "DQkTXQew4WRv",
        "outputId": "6a9521e1-55a7-424d-c5a8-b5748dae2126"
      },
      "source": [
        "z.grad"
      ],
      "execution_count": null,
      "outputs": [
        {
          "output_type": "execute_result",
          "data": {
            "text/plain": [
              "tensor(3.)"
            ]
          },
          "metadata": {
            "tags": []
          },
          "execution_count": 64
        }
      ]
    },
    {
      "cell_type": "code",
      "metadata": {
        "colab": {
          "base_uri": "https://localhost:8080/"
        },
        "id": "G8oYugJI4X9R",
        "outputId": "27b0a36b-1b2b-4555-9d7e-933a54b3b3eb"
      },
      "source": [
        "x.grad"
      ],
      "execution_count": null,
      "outputs": [
        {
          "output_type": "execute_result",
          "data": {
            "text/plain": [
              "tensor(3.)"
            ]
          },
          "metadata": {
            "tags": []
          },
          "execution_count": 65
        }
      ]
    },
    {
      "cell_type": "code",
      "metadata": {
        "colab": {
          "base_uri": "https://localhost:8080/"
        },
        "id": "yF0m0-6J4cAj",
        "outputId": "bd5a9f13-e687-47fc-eecb-64a3b202467d"
      },
      "source": [
        "y.grad"
      ],
      "execution_count": null,
      "outputs": [
        {
          "output_type": "execute_result",
          "data": {
            "text/plain": [
              "tensor(3.)"
            ]
          },
          "metadata": {
            "tags": []
          },
          "execution_count": 67
        }
      ]
    },
    {
      "cell_type": "code",
      "metadata": {
        "colab": {
          "base_uri": "https://localhost:8080/"
        },
        "id": "z-ddfr5a4jnJ",
        "outputId": "73937a97-b515-4c88-d8a6-5fdc9e919181"
      },
      "source": [
        "# comprobar que podemos usar GPU\n",
        "\n",
        "torch.cuda.is_available()"
      ],
      "execution_count": null,
      "outputs": [
        {
          "output_type": "execute_result",
          "data": {
            "text/plain": [
              "True"
            ]
          },
          "metadata": {
            "tags": []
          },
          "execution_count": 2
        }
      ]
    },
    {
      "cell_type": "code",
      "metadata": {
        "colab": {
          "base_uri": "https://localhost:8080/"
        },
        "id": "hi_WTayG5iPk",
        "outputId": "7493832d-f7ed-41f9-e483-a3442863e6a2"
      },
      "source": [
        "x = torch.randn(10000,10000)\n",
        "y = torch.randn(10000,10000)\n",
        "\n",
        "%time z = x*y"
      ],
      "execution_count": null,
      "outputs": [
        {
          "output_type": "stream",
          "text": [
            "CPU times: user 86 ms, sys: 157 ms, total: 243 ms\n",
            "Wall time: 259 ms\n"
          ],
          "name": "stdout"
        }
      ]
    },
    {
      "cell_type": "code",
      "metadata": {
        "colab": {
          "base_uri": "https://localhost:8080/"
        },
        "id": "Hkgiw6v16Zfr",
        "outputId": "4ae338a4-f21e-49dd-faa2-ff8368fc8136"
      },
      "source": [
        "x = torch.randn(10000,10000).cuda()\n",
        "y = torch.randn(10000,10000).cuda()\n",
        "\n",
        "%time z = x*y"
      ],
      "execution_count": null,
      "outputs": [
        {
          "output_type": "stream",
          "text": [
            "CPU times: user 0 ns, sys: 18.5 ms, total: 18.5 ms\n",
            "Wall time: 28.3 ms\n"
          ],
          "name": "stdout"
        }
      ]
    },
    {
      "cell_type": "code",
      "metadata": {
        "id": "k120GeKY66v4"
      },
      "source": [
        "# Formas de mandar los tensores a una GPU\n",
        "\n",
        "device = torch.device(\"cuda\")\n",
        "\n",
        "x = torch.randn((10000,10000), device='cuda')\n",
        "x = x.cuda()\n",
        "x = x.to(\"cuda\")\n",
        "x = x.to(device)"
      ],
      "execution_count": null,
      "outputs": []
    },
    {
      "cell_type": "code",
      "metadata": {
        "id": "FCq2pc2w6qdW"
      },
      "source": [
        "# Formas de mandarlos a la CPU\n",
        "\n",
        "device = torch.device(\"cpu\")\n",
        "\n",
        "x = x.cpu()\n",
        "x = x.to(\"cpu\")\n",
        "x = x.to(device)"
      ],
      "execution_count": null,
      "outputs": []
    },
    {
      "cell_type": "markdown",
      "metadata": {
        "id": "Gf8K653b0-GV"
      },
      "source": [
        "# Formas de crear redes neuronales en Pytorch"
      ]
    },
    {
      "cell_type": "code",
      "metadata": {
        "id": "igseRFjC1DuF"
      },
      "source": [
        "D_in, H, D_out = 784, 100, 10\n",
        "\n",
        "model = torch.nn.Sequential(\n",
        "    torch.nn.Linear(D_in, H),\n",
        "    torch.nn.ReLU(),\n",
        "    torch.nn.Linear(H,D_out),\n",
        ")"
      ],
      "execution_count": null,
      "outputs": []
    },
    {
      "cell_type": "code",
      "metadata": {
        "colab": {
          "base_uri": "https://localhost:8080/"
        },
        "id": "JqHnPj7S2Eu-",
        "outputId": "1a0439c4-b490-49c3-b5c0-be31e2474cdc"
      },
      "source": [
        "outputs = model(torch.randn(64,784)) # la primera es la dimensión batch ##784 es 28*28(tamaño de las imagenes)\n",
        "outputs.shape"
      ],
      "execution_count": null,
      "outputs": [
        {
          "output_type": "execute_result",
          "data": {
            "text/plain": [
              "torch.Size([64, 10])"
            ]
          },
          "metadata": {
            "tags": []
          },
          "execution_count": 7
        }
      ]
    },
    {
      "cell_type": "code",
      "metadata": {
        "colab": {
          "base_uri": "https://localhost:8080/"
        },
        "id": "Qrxi6JTE3Dpv",
        "outputId": "f489f929-b3d4-485a-f182-522bb5b934a9"
      },
      "source": [
        "# Para poner nuestro modelo en la GPU\n",
        "\n",
        "model.to(\"cuda\")"
      ],
      "execution_count": null,
      "outputs": [
        {
          "output_type": "execute_result",
          "data": {
            "text/plain": [
              "Sequential(\n",
              "  (0): Linear(in_features=784, out_features=100, bias=True)\n",
              "  (1): ReLU()\n",
              "  (2): Linear(in_features=100, out_features=10, bias=True)\n",
              ")"
            ]
          },
          "metadata": {
            "tags": []
          },
          "execution_count": 8
        }
      ]
    },
    {
      "cell_type": "code",
      "metadata": {
        "id": "i80Z28WY46zO"
      },
      "source": [
        "# función de pérdida y derivada\n",
        "\n",
        "def softmax(x):\n",
        "  return torch.exp(x)/torch.exp(x).sum(axis=-1,keepdims=True)\n",
        "\n",
        "def cross_entropy(output, target):\n",
        "  logits = output[torch.arange(len(output)), target]\n",
        "  loss = - logits + torch.log(torch.sum(torch.exp(output),axis=-1))\n",
        "  loss = loss.mean()\n",
        "  return loss"
      ],
      "execution_count": null,
      "outputs": []
    },
    {
      "cell_type": "code",
      "metadata": {
        "id": "JzDdvGom8Y4m"
      },
      "source": [
        "X_train = torch.randn(64,784)\n",
        "y_train = torch.randn(64,1)\n",
        "\n",
        "X_train = X_train.numpy()\n",
        "y_train = y_train.numpy()"
      ],
      "execution_count": null,
      "outputs": []
    },
    {
      "cell_type": "code",
      "metadata": {
        "colab": {
          "base_uri": "https://localhost:8080/"
        },
        "id": "xEakP4iH5331",
        "outputId": "9ae03533-9b05-4759-cb9f-fcd8054a8bdd"
      },
      "source": [
        "# convertimos los datos a tensores y copiamos en GPU\n",
        "\n",
        "X_t = torch.from_numpy(X_train).float().cuda()\n",
        "Y_t = torch.from_numpy(y_train).long().cuda()\n",
        "\n",
        "# bucle de entrenamiento\n",
        "\n",
        "epochs = 100\n",
        "lr = 0.8\n",
        "log_each = 10\n",
        "l = []\n",
        "\n",
        "for e in range(1, epochs +1):\n",
        "  #forward\n",
        "  y_pred = model(X_t)\n",
        "\n",
        "  # loss\n",
        "  loss = cross_entropy(y_pred,Y_t)\n",
        "  l.append(loss.item())\n",
        "\n",
        "  # ponemos a 0 los gradientes\n",
        "  model.zero_grad()\n",
        "\n",
        "  # Backprop (calculamos todos los gradientes automaticamente)\n",
        "  loss.backward()\n",
        "\n",
        "  # update de los pesos\n",
        "  with torch.no_grad():\n",
        "    for param in model.parameters():\n",
        "        param-= lr * param.grad\n",
        "  if not e % log_each:\n",
        "    print(f\"Epoch {e}/{epochs} Loss {np.mean(l):.5f}\")"
      ],
      "execution_count": null,
      "outputs": [
        {
          "output_type": "stream",
          "text": [
            "Epoch 10/100 Loss 1.06130\n",
            "Epoch 20/100 Loss 1.06129\n",
            "Epoch 30/100 Loss 1.06128\n",
            "Epoch 40/100 Loss 1.06128\n",
            "Epoch 50/100 Loss 1.06127\n",
            "Epoch 60/100 Loss 1.06126\n",
            "Epoch 70/100 Loss 1.06126\n",
            "Epoch 80/100 Loss 1.06125\n",
            "Epoch 90/100 Loss 1.06125\n",
            "Epoch 100/100 Loss 1.06124\n"
          ],
          "name": "stdout"
        }
      ]
    },
    {
      "cell_type": "code",
      "metadata": {
        "id": "zNStT2BzBn0n"
      },
      "source": [
        "X_test = torch.randn(20,784)\n",
        "y_test = torch.randn(20,1)\n",
        "\n",
        "X_test = X_test.numpy()\n",
        "y_test = y_test.numpy()"
      ],
      "execution_count": null,
      "outputs": []
    },
    {
      "cell_type": "code",
      "metadata": {
        "id": "OL9lpX5o92jD"
      },
      "source": [
        "# Evaluamos el modelo\n",
        "\n",
        "from sklearn.metrics import accuracy_score\n",
        "def evaluate(x):\n",
        "  model.eval()\n",
        "  y_pred = model(x)\n",
        "  y_probas = softmax(y_pred)\n",
        "  return torch.argmax(y_probas, axis=1)\n",
        "y_pred = evaluate(torch.from_numpy(X_test).float().cuda())\n",
        "accuracy_score(y_test, y_pred.cpu().numpy())"
      ],
      "execution_count": null,
      "outputs": []
    },
    {
      "cell_type": "code",
      "metadata": {
        "id": "IcuZ6c3KCPF0"
      },
      "source": [
        "# Para la función de perdida\n",
        "\n",
        "criterion = torch.nn.CrossEntropyLoss()"
      ],
      "execution_count": null,
      "outputs": []
    },
    {
      "cell_type": "code",
      "metadata": {
        "id": "uaTVV1YiCY5w"
      },
      "source": [
        "# Para los optimizadores\n",
        "\n",
        "optimizer = torch.optim.SGD(model.parameters(),lr=0.8)"
      ],
      "execution_count": null,
      "outputs": []
    },
    {
      "cell_type": "code",
      "metadata": {
        "id": "isFiVIn7Cxb7"
      },
      "source": [
        "# Definimos el mismo modelo que antescon estas funciones\n",
        "\n",
        "model = torch.nn.Sequential(\n",
        "    torch.nn.Linear(D_in,H),\n",
        "    torch.nn.ReLU(),\n",
        "    torch.nn.Linear(H, D_out),\n",
        ").to(\"cuda\")\n",
        "\n",
        "criterion = torch.nn.CrossEntropyLoss()\n",
        "optimizer = torch.optim.SGD(model.parameters(),lr=0.8)\n",
        "\n",
        "epoch = 100\n",
        "log_each = 10\n",
        "l = []\n",
        "model.train()\n",
        "\n",
        "for e in range(1, epochs+1):\n",
        "\n",
        "  # forward\n",
        "  y_pred = model(X_t)\n",
        "\n",
        "  # loss\n",
        "  loss = criterion(y_pred, Y_t)\n",
        "  l.append(loss.item())\n",
        "\n",
        "  # ponemos a cero los gradientes\n",
        "  optimizer.zero_grad()\n",
        "\n",
        "  # Backprop (calculamos todos los gradientes automaticamente)\n",
        "  loss.backward()\n",
        "\n",
        "  # update de los pesos\n",
        "  optimizer.step()\n",
        "\n",
        "  if not e % log_each:\n",
        "    print(f\"Epoch {e}/{epochs} Loss {np.mean(l):.5f}\")\n"
      ],
      "execution_count": null,
      "outputs": []
    },
    {
      "cell_type": "markdown",
      "metadata": {
        "id": "TArApTEiG2rG"
      },
      "source": [
        "# Modelos custom PyTorch"
      ]
    },
    {
      "cell_type": "code",
      "metadata": {
        "id": "T5eDHovRG8Ba"
      },
      "source": [
        "# Creamos una clase que hereda de torch.nn.module\n",
        "\n",
        "class Model(torch.nn.Module):\n",
        "\n",
        "  # constructor\n",
        "  def __init__(self, D_in,H,D_out):\n",
        "\n",
        "    # Llamamos alconstructor de la clase madre\n",
        "    super(Model,self).__init__()\n",
        "\n",
        "    #definimos nuestras capas\n",
        "    self.fc1 = torch.nn.Linear(D_in, H)\n",
        "    self.relu = torch.nn.ReLU()\n",
        "    self.fc2 = torch.nn.Linear(H, D_out)\n",
        "\n",
        "  # lógica para calcular las salidas de la red\n",
        "  def forward(self,x):\n",
        "    x = self.fc1(x)\n",
        "    x = self.relu(x)\n",
        "    x = self.fc2(x)\n",
        "    return x"
      ],
      "execution_count": null,
      "outputs": []
    },
    {
      "cell_type": "code",
      "metadata": {
        "colab": {
          "base_uri": "https://localhost:8080/"
        },
        "id": "nao41UuUI7Ic",
        "outputId": "a8c4b502-39a4-421b-9730-1ce9fc072a58"
      },
      "source": [
        "model = Model(784,100,10)\n",
        "outputs = model(torch.randn(64,784))\n",
        "outputs.shape"
      ],
      "execution_count": null,
      "outputs": [
        {
          "output_type": "execute_result",
          "data": {
            "text/plain": [
              "torch.Size([64, 10])"
            ]
          },
          "metadata": {
            "tags": []
          },
          "execution_count": 46
        }
      ]
    },
    {
      "cell_type": "code",
      "metadata": {
        "id": "KdNTxG1jJffT"
      },
      "source": [
        "model.to(\"cuda\")\n",
        "criterion = torch.nn.CrossEntropyLoss()\n",
        "optimizer = torch.optim.SGD(model.parameters(),lr=0.8)\n",
        "\n",
        "epoch = 100\n",
        "log_each = 10\n",
        "l = []\n",
        "model.train()\n",
        "\n",
        "for e in range(1, epochs+1):\n",
        "\n",
        "  # forward\n",
        "  y_pred = model(X_t)\n",
        "\n",
        "  # loss\n",
        "  loss = criterion(y_pred, Y_t)\n",
        "  l.append(loss.item())\n",
        "\n",
        "  # ponemos a cero los gradientes\n",
        "  optimizer.zero_grad()\n",
        "\n",
        "  # Backprop (calculamos todos los gradientes automaticamente)\n",
        "  loss.backward()\n",
        "\n",
        "  # update de los pesos\n",
        "  optimizer.step()\n",
        "\n",
        "  if not e % log_each:\n",
        "    print(f\"Epoch {e}/{epochs} Loss {np.mean(l):.5f}\")"
      ],
      "execution_count": null,
      "outputs": []
    },
    {
      "cell_type": "markdown",
      "metadata": {
        "id": "i-sVyPdlJ7fr"
      },
      "source": [
        "# Como acceder a las capas"
      ]
    },
    {
      "cell_type": "code",
      "metadata": {
        "colab": {
          "base_uri": "https://localhost:8080/"
        },
        "id": "RK5948QOKDSo",
        "outputId": "49774553-6113-4b1d-912b-c834a41efca3"
      },
      "source": [
        "model"
      ],
      "execution_count": null,
      "outputs": [
        {
          "output_type": "execute_result",
          "data": {
            "text/plain": [
              "Model(\n",
              "  (fc1): Linear(in_features=784, out_features=100, bias=True)\n",
              "  (relu): ReLU()\n",
              "  (fc2): Linear(in_features=100, out_features=10, bias=True)\n",
              ")"
            ]
          },
          "metadata": {
            "tags": []
          },
          "execution_count": 48
        }
      ]
    },
    {
      "cell_type": "code",
      "metadata": {
        "colab": {
          "base_uri": "https://localhost:8080/"
        },
        "id": "DuV3VN6HKNUL",
        "outputId": "129f8d45-7a25-4c77-817e-950eaa138f4d"
      },
      "source": [
        "model.fc1.weight"
      ],
      "execution_count": null,
      "outputs": [
        {
          "output_type": "execute_result",
          "data": {
            "text/plain": [
              "Parameter containing:\n",
              "tensor([[-0.0210,  0.0248, -0.0279,  ...,  0.0247,  0.0035, -0.0040],\n",
              "        [ 0.0341,  0.0128, -0.0186,  ..., -0.0055, -0.0171,  0.0227],\n",
              "        [ 0.0049,  0.0156, -0.0269,  ...,  0.0318, -0.0113, -0.0104],\n",
              "        ...,\n",
              "        [ 0.0331, -0.0337, -0.0283,  ...,  0.0175, -0.0097, -0.0021],\n",
              "        [ 0.0250, -0.0198, -0.0190,  ..., -0.0053,  0.0066,  0.0015],\n",
              "        [ 0.0212, -0.0079, -0.0155,  ..., -0.0172, -0.0032,  0.0179]],\n",
              "       device='cuda:0', requires_grad=True)"
            ]
          },
          "metadata": {
            "tags": []
          },
          "execution_count": 49
        }
      ]
    },
    {
      "cell_type": "code",
      "metadata": {
        "colab": {
          "base_uri": "https://localhost:8080/"
        },
        "id": "S8N3ouJZKRu5",
        "outputId": "096308c1-dc47-48e9-c26c-925529fce271"
      },
      "source": [
        "model.fc1.bias"
      ],
      "execution_count": null,
      "outputs": [
        {
          "output_type": "execute_result",
          "data": {
            "text/plain": [
              "Parameter containing:\n",
              "tensor([-2.0767e-02, -2.7755e-02, -3.1700e-03,  3.0786e-02, -1.9490e-02,\n",
              "         2.3635e-02,  1.9281e-02, -2.6993e-02, -2.8127e-02,  2.7535e-02,\n",
              "        -2.3849e-02, -1.8964e-02, -2.4197e-02, -4.3591e-03,  1.4466e-02,\n",
              "         1.1828e-02,  3.2133e-03, -2.4399e-02, -2.5351e-02,  3.1946e-02,\n",
              "         1.7066e-02, -4.5318e-03,  3.2947e-02, -1.7576e-02, -3.7369e-03,\n",
              "        -1.6499e-02,  3.5109e-02,  2.7265e-02,  3.3527e-02,  3.2726e-02,\n",
              "        -2.0525e-02,  1.7526e-02, -2.6429e-02, -9.1422e-03,  2.4405e-02,\n",
              "         1.8255e-02,  9.7707e-03, -1.9057e-02,  1.1007e-02, -3.0604e-02,\n",
              "         5.1544e-03,  1.6612e-02, -2.5732e-02,  5.3852e-03, -2.7381e-02,\n",
              "         2.4984e-02,  2.3767e-02,  1.9807e-02, -2.5254e-02, -1.2620e-02,\n",
              "         1.9217e-02, -1.1982e-03, -8.0369e-03, -3.4053e-02,  3.3737e-02,\n",
              "        -3.1952e-02,  2.6729e-02, -2.1052e-02, -2.5803e-02,  3.4059e-02,\n",
              "        -3.5512e-02, -4.7367e-03, -7.0402e-03, -2.9433e-03,  2.2526e-05,\n",
              "        -3.4071e-02,  3.3020e-02,  1.3897e-02, -1.8361e-02, -2.6438e-02,\n",
              "        -1.9842e-02, -1.9740e-02, -1.4150e-02, -1.6816e-02, -7.2452e-03,\n",
              "         2.5787e-03, -2.9655e-02, -9.3030e-03, -3.5070e-02,  2.0515e-02,\n",
              "         4.7448e-03, -1.4062e-02, -1.7329e-02, -4.6654e-03,  2.8662e-02,\n",
              "        -1.2639e-02, -7.1664e-03, -3.4670e-03, -2.4523e-02,  5.8375e-03,\n",
              "        -4.6125e-03, -3.0033e-02, -7.5365e-03,  2.1196e-02, -2.0026e-02,\n",
              "        -1.5513e-02,  1.3712e-02,  2.6179e-02, -8.5661e-03, -1.6857e-02],\n",
              "       device='cuda:0', requires_grad=True)"
            ]
          },
          "metadata": {
            "tags": []
          },
          "execution_count": 50
        }
      ]
    },
    {
      "cell_type": "code",
      "metadata": {
        "colab": {
          "base_uri": "https://localhost:8080/"
        },
        "id": "t8BwqbXeKmxC",
        "outputId": "f12b5925-f432-4468-f447-fdaa98003931"
      },
      "source": [
        "# Ponemos una capa nueva(Transferlearning)\n",
        "\n",
        "model.fc2 = torch.nn.Linear(200,1)\n",
        "\n",
        "model"
      ],
      "execution_count": null,
      "outputs": [
        {
          "output_type": "execute_result",
          "data": {
            "text/plain": [
              "Model(\n",
              "  (fc1): Linear(in_features=784, out_features=100, bias=True)\n",
              "  (relu): ReLU()\n",
              "  (fc2): Linear(in_features=200, out_features=1, bias=True)\n",
              ")"
            ]
          },
          "metadata": {
            "tags": []
          },
          "execution_count": 52
        }
      ]
    },
    {
      "cell_type": "markdown",
      "metadata": {
        "id": "aY2Zag5hMB7n"
      },
      "source": [
        "# Optimización por mini batches"
      ]
    },
    {
      "cell_type": "code",
      "metadata": {
        "id": "rVwMB_BOMIB7"
      },
      "source": [
        "# Creamos una clase que hereda de torch.nn.module\n",
        "\n",
        "class Model(torch.nn.Module):\n",
        "\n",
        "  # constructor\n",
        "  def __init__(self, D_in,H,D_out):\n",
        "\n",
        "    # Llamamos alconstructor de la clase madre\n",
        "    super(Model,self).__init__()\n",
        "\n",
        "    #definimos nuestras capas\n",
        "    self.fc1 = torch.nn.Linear(D_in, H)\n",
        "    self.relu = torch.nn.ReLU()\n",
        "    self.fc2 = torch.nn.Linear(H, D_out)\n",
        "\n",
        "  # lógica para calcular las salidas de la red\n",
        "  def forward(self,x):\n",
        "    x = self.fc1(x)\n",
        "    x = self.relu(x)\n",
        "    x = self.fc2(x)\n",
        "    return x"
      ],
      "execution_count": null,
      "outputs": []
    },
    {
      "cell_type": "code",
      "metadata": {
        "id": "NMATjXf9MSSk"
      },
      "source": [
        "model = Model(784,100,10)\n",
        "outputs = model(torch.randn(64,784))\n",
        "outputs.shape"
      ],
      "execution_count": null,
      "outputs": []
    },
    {
      "cell_type": "code",
      "metadata": {
        "id": "Oz7CPcG1MWzX"
      },
      "source": [
        "model.to(\"cuda\")\n",
        "\n",
        "criterion = torch.nn.CrossEntropyLoss()\n",
        "optimizer = torch.optim.SGD(model.parameters(),lr=0.8)\n",
        "\n",
        "epoch = 10\n",
        "batch_size = 100\n",
        "log_each = 10\n",
        "l = []\n",
        "model.train()\n",
        "batches = len(X_t) // batch_size\n",
        "\n",
        "for e in range(1, epochs+1):\n",
        "\n",
        "  _l=[]\n",
        "  #iteramos por batches\n",
        "  for b in range(batches):\n",
        "    x_b = X_t[b*batch_size:(b+1)*batch_size]\n",
        "    y_b = Y_t[b*batch_size:(b+1)*batch_size]\n",
        "\n",
        "    # forward\n",
        "    y_pred = model(X_t)\n",
        "\n",
        "    # loss\n",
        "    loss = criterion(y_pred, Y_t)\n",
        "    l.append(loss.item())\n",
        "\n",
        "    # ponemos a cero los gradientes\n",
        "    optimizer.zero_grad()\n",
        "\n",
        "    # Backprop (calculamos todos los gradientes automaticamente)\n",
        "    loss.backward()\n",
        "\n",
        "    # update de los pesos\n",
        "    optimizer.step()\n",
        "\n",
        "  l.append(np.mean(_l))\n",
        "  if not e % log_each:\n",
        "    print(f\"Epoch {e}/{epochs} Loss {np.mean(l):.5f}\")"
      ],
      "execution_count": null,
      "outputs": []
    },
    {
      "cell_type": "markdown",
      "metadata": {
        "id": "h6DAob7NOGq4"
      },
      "source": [
        "## La clase Dataset"
      ]
    },
    {
      "cell_type": "code",
      "metadata": {
        "id": "Gzh2EcikOK_I"
      },
      "source": [
        "# clase Dataset, hereda de la clase `torch.utils.data.Dataset`\n",
        "\n",
        "class Dataset(torch.utils.data.Dataset):\n",
        "  #constructor\n",
        "  def __init__(self,X,Y):\n",
        "    self.X = torch.from_numpy(X).float().cuda()\n",
        "    self.Y = torch.from_numpy(Y).long().cuda()\n",
        "  # devolvemos el número de datos en el dataset\n",
        "  def __len__(self):\n",
        "    return len(self.X)\n",
        "  # devolvemos el elemento `ix`del dataset\n",
        "  def __getitem__(self,ix):\n",
        "    return self.X[ix], self.Y[ix] "
      ],
      "execution_count": null,
      "outputs": []
    },
    {
      "cell_type": "code",
      "metadata": {
        "id": "ilKkW0LnV720"
      },
      "source": [
        "D_in, H, D_out = 784,100,10\n",
        "model = torch.nn.Sequential(\n",
        "    torch.nn.Linear(D_in,H),\n",
        "    torch.nn.ReLU(),\n",
        "    torch.nn.Linear(H, D_out),\n",
        ").to(\"cuda\")\n",
        "\n",
        "criterion = torch.nn.CrossEntropyLoss()\n",
        "optimizer = torch.optim.SGD(model.parameters(),lr=0.8)\n",
        "\n",
        "epoch = 10\n",
        "batch_size = 100\n",
        "log_each = 10\n",
        "l = []\n",
        "model.train()\n",
        "batches = len(X_t) // batch_size\n",
        "\n",
        "for e in range(1, epochs+1):\n",
        "\n",
        "  _l=[]\n",
        "  #iteramos por batches\n",
        "  for b in range(batches):\n",
        "    x_b,y_b = dataset[b*batch_size:(b+1)*batch_size]\n",
        "\n",
        "    # forward\n",
        "    y_pred = model(X_t)\n",
        "\n",
        "    # loss\n",
        "    loss = criterion(y_pred, Y_t)\n",
        "    l.append(loss.item())\n",
        "\n",
        "    # ponemos a cero los gradientes\n",
        "    optimizer.zero_grad()\n",
        "\n",
        "    # Backprop (calculamos todos los gradientes automaticamente)\n",
        "    loss.backward()\n",
        "\n",
        "    # update de los pesos\n",
        "    optimizer.step()\n",
        "\n",
        "  l.append(np.mean(_l))\n",
        "  if not e % log_each:\n",
        "    print(f\"Epoch {e}/{epochs} Loss {np.mean(l):.5f}\")"
      ],
      "execution_count": null,
      "outputs": []
    },
    {
      "cell_type": "markdown",
      "metadata": {
        "id": "c-Or_eO5ZTul"
      },
      "source": [
        "## Clase Dataloader"
      ]
    },
    {
      "cell_type": "markdown",
      "metadata": {
        "id": "N08eDf0wZb83"
      },
      "source": [
        "La clase DataLoader recibe un Dataset e implementa la lógica para iterar nuestros datos en batches."
      ]
    },
    {
      "cell_type": "code",
      "metadata": {
        "id": "55i4gf8_cKBt"
      },
      "source": [
        "# Personalización del batch en el dataloader\n",
        "''' \n",
        "def collate_fn(batch):\n",
        "  return torch.stack([x for x,y in batch]),torch.stack([y for x, y in batch]), torch.stack([2.*x for x, y in batch])\n",
        "'''"
      ],
      "execution_count": null,
      "outputs": []
    },
    {
      "cell_type": "code",
      "metadata": {
        "id": "G1vufII9Z66h"
      },
      "source": [
        "dataloader = torch.utils.data.DataLoader(dataset, batch_size=100, shuffle=True)#collate_fn= collate_fn"
      ],
      "execution_count": null,
      "outputs": []
    },
    {
      "cell_type": "code",
      "metadata": {
        "id": "BKmVyAT0ZrIs"
      },
      "source": [
        "x, y = next(iter(dataloader))\n",
        "\n",
        "x.shape, y.shape"
      ],
      "execution_count": null,
      "outputs": []
    },
    {
      "cell_type": "code",
      "metadata": {
        "id": "IA1gR7RgbDUP"
      },
      "source": [
        "D_in, H, D_out = 784,100,10\n",
        "model = torch.nn.Sequential(\n",
        "    torch.nn.Linear(D_in,H),\n",
        "    torch.nn.ReLU(),\n",
        "    torch.nn.Linear(H, D_out),\n",
        ").to(\"cuda\")\n",
        "\n",
        "criterion = torch.nn.CrossEntropyLoss()\n",
        "optimizer = torch.optim.SGD(model.parameters(),lr=0.8)\n",
        "\n",
        "epoch = 10\n",
        "log_each = 10\n",
        "l = []\n",
        "model.train()\n",
        "batches = len(X_t) // batch_size\n",
        "\n",
        "for e in range(1, epochs+1):\n",
        "\n",
        "  _l=[]\n",
        "  #iteramos por batches\n",
        "  for x_b,y_b in dataloader:\n",
        "\n",
        "    # forward\n",
        "    y_pred = model(x_b)\n",
        "\n",
        "    # loss\n",
        "    loss = criterion(y_pred, y_b)\n",
        "    l.append(loss.item())\n",
        "\n",
        "    # ponemos a cero los gradientes\n",
        "    optimizer.zero_grad()\n",
        "\n",
        "    # Backprop (calculamos todos los gradientes automaticamente)\n",
        "    loss.backward()\n",
        "\n",
        "    # update de los pesos\n",
        "    optimizer.step()\n",
        "\n",
        "  l.append(np.mean(_l))\n",
        "  if not e % log_each:\n",
        "    print(f\"Epoch {e}/{epochs} Loss {np.mean(l):.5f}\")"
      ],
      "execution_count": null,
      "outputs": []
    },
    {
      "cell_type": "markdown",
      "metadata": {
        "id": "qr0DSE8DdcZj"
      },
      "source": [
        "# Guardar y exportar modelos"
      ]
    },
    {
      "cell_type": "code",
      "metadata": {
        "colab": {
          "base_uri": "https://localhost:8080/",
          "height": 34
        },
        "id": "A3G1GFWGdhPo",
        "outputId": "963a6cb2-acb3-4bbb-c0f8-ce56ae712490"
      },
      "source": [
        "import torch\n",
        "import torchvision\n",
        "import torchvision.transforms as transforms\n",
        "from tqdm import tqdm\n",
        "import numpy as np\n",
        "\n",
        "device = \"cuda\" if torch.cuda.is_available() else \"cpu\"\n",
        "device"
      ],
      "execution_count": null,
      "outputs": [
        {
          "output_type": "execute_result",
          "data": {
            "application/vnd.google.colaboratory.intrinsic+json": {
              "type": "string"
            },
            "text/plain": [
              "'cuda'"
            ]
          },
          "metadata": {
            "tags": []
          },
          "execution_count": 10
        }
      ]
    },
    {
      "cell_type": "code",
      "metadata": {
        "colab": {
          "base_uri": "https://localhost:8080/",
          "height": 580,
          "referenced_widgets": [
            "b7ed5fcbfee443339c38eb0ce8c20b47",
            "aae29597ffd74502bd9168e51a4d50cd",
            "c776616c074543f49ac2189bf9a1b546",
            "256c72a6d46149cdb4078522a33de584",
            "fc743ea59a47431aa2c0499811fddac8",
            "09436432df024200ad878b4c19ca4fcf",
            "99f5518a3e204e2d812eff6769a810a0",
            "8bb2343dd722420a829a7a8b79a2b332",
            "3fe9e874fc8d4adf93cf7795cbcb36b4",
            "91690601cf5648deb7afce59371abac4",
            "c16f868427174d1aaa4a096797e7d7b9",
            "ed4324a9c04249efbb77bf8ee16462e8",
            "7143b62845314710bd1950805f58295b",
            "864882e672ad40bd9858fdbf668cc85b",
            "f15f166f05034d77b7397a50e5dd4b28",
            "d39a3e4d0fb94ab5aeb00ba42cc2d02b",
            "c4e2c6c2ee0149f7b270bd62cf8d787d",
            "0c512309e83f453e8490b4fb9bc0fac6",
            "79754e521edf4a718734fc769a7c9bbc",
            "28608cc975d64beaa77d3770c11ca4ed",
            "d010c990ae1541f3a291f086a236ae08",
            "fd3bfa68d43c4f1080675d6b07f4ea83",
            "6034bfeb49e64064bf25e93141150b12",
            "3c02289e357645e8a17b0be845733b6e",
            "1e11bc19030f416faf57b0fa552eb4db",
            "1a9d31243b8c4d06be1b2aa05c96013e",
            "17b5ac30370d49fbb2defd1b9a276d1b",
            "d847ce1554fb4cb3a3e60fd20445e354",
            "a7635e2ce3f349f49adb7b04cdc443eb",
            "0c7af67eb45247c28a3d69d149f7a77d",
            "7c1eb510b8414eeaaaf0ca63eb6eec90",
            "7339f32a1c9b4bdf80b37ba09ed4aa1a"
          ]
        },
        "id": "wSYE-U3Begtv",
        "outputId": "76f1e6a4-867c-4669-fe91-85cd5712d59c"
      },
      "source": [
        "# preparamos los datos\n",
        "\n",
        "dataloader = {\n",
        "    'train': torch.utils.data.DataLoader(torchvision.datasets.MNIST('../data', train=True, download=True,\n",
        "                       transform=torchvision.transforms.Compose([\n",
        "                            torchvision.transforms.ToTensor(),\n",
        "                            torchvision.transforms.Normalize((0.1307,), (0.3081,))\n",
        "                            ])\n",
        "                      ), batch_size=2048, shuffle=True, pin_memory=True),\n",
        "    'test': torch.utils.data.DataLoader(torchvision.datasets.MNIST('../data', train=False,\n",
        "                   transform=torchvision.transforms.Compose([\n",
        "                        torchvision.transforms.ToTensor(),\n",
        "                        torchvision.transforms.Normalize((0.1307,), (0.3081,))\n",
        "                        ])\n",
        "                     ), batch_size=2048, shuffle=False, pin_memory=True)\n",
        "}"
      ],
      "execution_count": null,
      "outputs": [
        {
          "output_type": "stream",
          "text": [
            "Downloading http://yann.lecun.com/exdb/mnist/train-images-idx3-ubyte.gz\n",
            "Downloading http://yann.lecun.com/exdb/mnist/train-images-idx3-ubyte.gz to ../data/MNIST/raw/train-images-idx3-ubyte.gz\n"
          ],
          "name": "stdout"
        },
        {
          "output_type": "display_data",
          "data": {
            "application/vnd.jupyter.widget-view+json": {
              "model_id": "b7ed5fcbfee443339c38eb0ce8c20b47",
              "version_minor": 0,
              "version_major": 2
            },
            "text/plain": [
              "HBox(children=(FloatProgress(value=0.0, max=9912422.0), HTML(value='')))"
            ]
          },
          "metadata": {
            "tags": []
          }
        },
        {
          "output_type": "stream",
          "text": [
            "\n",
            "Extracting ../data/MNIST/raw/train-images-idx3-ubyte.gz to ../data/MNIST/raw\n",
            "\n",
            "Downloading http://yann.lecun.com/exdb/mnist/train-labels-idx1-ubyte.gz\n",
            "Downloading http://yann.lecun.com/exdb/mnist/train-labels-idx1-ubyte.gz to ../data/MNIST/raw/train-labels-idx1-ubyte.gz\n"
          ],
          "name": "stdout"
        },
        {
          "output_type": "display_data",
          "data": {
            "application/vnd.jupyter.widget-view+json": {
              "model_id": "3fe9e874fc8d4adf93cf7795cbcb36b4",
              "version_minor": 0,
              "version_major": 2
            },
            "text/plain": [
              "HBox(children=(FloatProgress(value=0.0, max=28881.0), HTML(value='')))"
            ]
          },
          "metadata": {
            "tags": []
          }
        },
        {
          "output_type": "stream",
          "text": [
            "\n",
            "Extracting ../data/MNIST/raw/train-labels-idx1-ubyte.gz to ../data/MNIST/raw\n",
            "\n",
            "Downloading http://yann.lecun.com/exdb/mnist/t10k-images-idx3-ubyte.gz\n",
            "Downloading http://yann.lecun.com/exdb/mnist/t10k-images-idx3-ubyte.gz to ../data/MNIST/raw/t10k-images-idx3-ubyte.gz\n"
          ],
          "name": "stdout"
        },
        {
          "output_type": "display_data",
          "data": {
            "application/vnd.jupyter.widget-view+json": {
              "model_id": "c4e2c6c2ee0149f7b270bd62cf8d787d",
              "version_minor": 0,
              "version_major": 2
            },
            "text/plain": [
              "HBox(children=(FloatProgress(value=0.0, max=1648877.0), HTML(value='')))"
            ]
          },
          "metadata": {
            "tags": []
          }
        },
        {
          "output_type": "stream",
          "text": [
            "\n",
            "Extracting ../data/MNIST/raw/t10k-images-idx3-ubyte.gz to ../data/MNIST/raw\n",
            "\n",
            "Downloading http://yann.lecun.com/exdb/mnist/t10k-labels-idx1-ubyte.gz\n",
            "Downloading http://yann.lecun.com/exdb/mnist/t10k-labels-idx1-ubyte.gz to ../data/MNIST/raw/t10k-labels-idx1-ubyte.gz\n"
          ],
          "name": "stdout"
        },
        {
          "output_type": "display_data",
          "data": {
            "application/vnd.jupyter.widget-view+json": {
              "model_id": "1e11bc19030f416faf57b0fa552eb4db",
              "version_minor": 0,
              "version_major": 2
            },
            "text/plain": [
              "HBox(children=(FloatProgress(value=0.0, max=4542.0), HTML(value='')))"
            ]
          },
          "metadata": {
            "tags": []
          }
        },
        {
          "output_type": "stream",
          "text": [
            "\n",
            "Extracting ../data/MNIST/raw/t10k-labels-idx1-ubyte.gz to ../data/MNIST/raw\n",
            "\n",
            "Processing...\n",
            "Done!\n"
          ],
          "name": "stdout"
        },
        {
          "output_type": "stream",
          "text": [
            "/usr/local/lib/python3.7/dist-packages/torchvision/datasets/mnist.py:502: UserWarning: The given NumPy array is not writeable, and PyTorch does not support non-writeable tensors. This means you can write to the underlying (supposedly non-writeable) NumPy array using the tensor. You may want to copy the array to protect its data or make it writeable before converting it to a tensor. This type of warning will be suppressed for the rest of this program. (Triggered internally at  /pytorch/torch/csrc/utils/tensor_numpy.cpp:143.)\n",
            "  return torch.from_numpy(parsed.astype(m[2], copy=False)).view(*s)\n"
          ],
          "name": "stderr"
        }
      ]
    },
    {
      "cell_type": "code",
      "metadata": {
        "id": "pvZNs0ZrfjaM"
      },
      "source": [
        "# definimos el modelo\n",
        "\n",
        "def block(c_in, c_out, k=3, p=1, s=1, pk=2, ps=2):\n",
        "    return torch.nn.Sequential(\n",
        "        torch.nn.Conv2d(c_in, c_out, k, padding=p, stride=s),\n",
        "        torch.nn.ReLU(),\n",
        "        torch.nn.MaxPool2d(pk, stride=ps)\n",
        "    )\n",
        "\n",
        "class CNN(torch.nn.Module):\n",
        "  def __init__(self, n_channels=1, n_outputs=10):\n",
        "    super().__init__()\n",
        "    self.conv1 = block(n_channels, 64)\n",
        "    self.conv2 = block(64, 128)\n",
        "    self.fc = torch.nn.Linear(128*7*7, n_outputs)\n",
        "\n",
        "  def forward(self, x):\n",
        "    x = self.conv1(x)\n",
        "    x = self.conv2(x)\n",
        "    x = x.view(x.shape[0], -1)\n",
        "    x = self.fc(x)\n",
        "    return x"
      ],
      "execution_count": null,
      "outputs": []
    },
    {
      "cell_type": "code",
      "metadata": {
        "id": "jVwaUiLBgGli"
      },
      "source": [
        "# entrenamos el modelo\n",
        "\n",
        "def fit(model, dataloader, epochs=5):\n",
        "    model.to(device)\n",
        "    optimizer = torch.optim.Adam(model.parameters(), lr=1e-3)\n",
        "    criterion = torch.nn.CrossEntropyLoss()\n",
        "    for epoch in range(1, epochs+1):\n",
        "        model.train()\n",
        "        train_loss, train_acc = [], []\n",
        "        bar = tqdm(dataloader['train'])\n",
        "        for batch in bar:\n",
        "            X, y = batch\n",
        "            X, y = X.to(device), y.to(device)\n",
        "            optimizer.zero_grad()\n",
        "            y_hat = model(X)\n",
        "            loss = criterion(y_hat, y)\n",
        "            loss.backward()\n",
        "            optimizer.step()\n",
        "            train_loss.append(loss.item())\n",
        "            acc = (y == torch.argmax(y_hat, axis=1)).sum().item() / len(y)\n",
        "            train_acc.append(acc)\n",
        "            bar.set_description(f\"loss {np.mean(train_loss):.5f} acc {np.mean(train_acc):.5f}\")\n",
        "        bar = tqdm(dataloader['test'])\n",
        "        val_loss, val_acc = [], []\n",
        "        model.eval()\n",
        "        with torch.no_grad():\n",
        "            for batch in bar:\n",
        "                X, y = batch\n",
        "                X, y = X.to(device), y.to(device)\n",
        "                y_hat = model(X)\n",
        "                loss = criterion(y_hat, y)\n",
        "                val_loss.append(loss.item())\n",
        "                acc = (y == torch.argmax(y_hat, axis=1)).sum().item() / len(y)\n",
        "                val_acc.append(acc)\n",
        "                bar.set_description(f\"val_loss {np.mean(val_loss):.5f} val_acc {np.mean(val_acc):.5f}\")\n",
        "        print(f\"Epoch {epoch}/{epochs} loss {np.mean(train_loss):.5f} val_loss {np.mean(val_loss):.5f} acc {np.mean(train_acc):.5f} val_acc {np.mean(val_acc):.5f}\")"
      ],
      "execution_count": null,
      "outputs": []
    },
    {
      "cell_type": "code",
      "metadata": {
        "colab": {
          "base_uri": "https://localhost:8080/"
        },
        "id": "SuvJXb64gMEQ",
        "outputId": "d3f95d60-a0d7-412c-87d7-118c9ac7d962"
      },
      "source": [
        "model = CNN()\n",
        "fit(model, dataloader)"
      ],
      "execution_count": null,
      "outputs": [
        {
          "output_type": "stream",
          "text": [
            "loss 0.59731 acc 0.82123: 100%|██████████| 30/30 [00:10<00:00,  2.97it/s]\n",
            "val_loss 0.18726 val_acc 0.94670: 100%|██████████| 5/5 [00:01<00:00,  3.51it/s]\n",
            "  0%|          | 0/30 [00:00<?, ?it/s]"
          ],
          "name": "stderr"
        },
        {
          "output_type": "stream",
          "text": [
            "Epoch 1/5 loss 0.59731 val_loss 0.18726 acc 0.82123 val_acc 0.94670\n"
          ],
          "name": "stdout"
        },
        {
          "output_type": "stream",
          "text": [
            "loss 0.14012 acc 0.95842: 100%|██████████| 30/30 [00:09<00:00,  3.08it/s]\n",
            "val_loss 0.08922 val_acc 0.97405: 100%|██████████| 5/5 [00:01<00:00,  3.55it/s]\n",
            "  0%|          | 0/30 [00:00<?, ?it/s]"
          ],
          "name": "stderr"
        },
        {
          "output_type": "stream",
          "text": [
            "Epoch 2/5 loss 0.14012 val_loss 0.08922 acc 0.95842 val_acc 0.97405\n"
          ],
          "name": "stdout"
        },
        {
          "output_type": "stream",
          "text": [
            "loss 0.08470 acc 0.97582: 100%|██████████| 30/30 [00:10<00:00,  3.00it/s]\n",
            "val_loss 0.06228 val_acc 0.98215: 100%|██████████| 5/5 [00:01<00:00,  3.72it/s]\n",
            "  0%|          | 0/30 [00:00<?, ?it/s]"
          ],
          "name": "stderr"
        },
        {
          "output_type": "stream",
          "text": [
            "Epoch 3/5 loss 0.08470 val_loss 0.06228 acc 0.97582 val_acc 0.98215\n"
          ],
          "name": "stdout"
        },
        {
          "output_type": "stream",
          "text": [
            "loss 0.06225 acc 0.98221: 100%|██████████| 30/30 [00:09<00:00,  3.04it/s]\n",
            "val_loss 0.05550 val_acc 0.98199: 100%|██████████| 5/5 [00:01<00:00,  3.86it/s]\n",
            "  0%|          | 0/30 [00:00<?, ?it/s]"
          ],
          "name": "stderr"
        },
        {
          "output_type": "stream",
          "text": [
            "Epoch 4/5 loss 0.06225 val_loss 0.05550 acc 0.98221 val_acc 0.98199\n"
          ],
          "name": "stdout"
        },
        {
          "output_type": "stream",
          "text": [
            "loss 0.05291 acc 0.98481: 100%|██████████| 30/30 [00:10<00:00,  3.00it/s]\n",
            "val_loss 0.04140 val_acc 0.98739: 100%|██████████| 5/5 [00:01<00:00,  3.78it/s]"
          ],
          "name": "stderr"
        },
        {
          "output_type": "stream",
          "text": [
            "Epoch 5/5 loss 0.05291 val_loss 0.04140 acc 0.98481 val_acc 0.98739\n"
          ],
          "name": "stdout"
        },
        {
          "output_type": "stream",
          "text": [
            "\n"
          ],
          "name": "stderr"
        }
      ]
    },
    {
      "cell_type": "code",
      "metadata": {
        "id": "EnCMPILwgneu"
      },
      "source": [
        "# guardar modelo\n",
        "\n",
        "PATH = './checkpoint.pt'\n",
        "torch.save(model.state_dict(), PATH)"
      ],
      "execution_count": null,
      "outputs": []
    },
    {
      "cell_type": "code",
      "metadata": {
        "colab": {
          "base_uri": "https://localhost:8080/"
        },
        "id": "AjJay-oIgqjJ",
        "outputId": "b1d1ed44-c0a4-414c-8432-bc79ecbf5327"
      },
      "source": [
        "# cargar modelo\n",
        "\n",
        "model.load_state_dict(torch.load(PATH))\n",
        "model.eval()"
      ],
      "execution_count": null,
      "outputs": [
        {
          "output_type": "execute_result",
          "data": {
            "text/plain": [
              "CNN(\n",
              "  (conv1): Sequential(\n",
              "    (0): Conv2d(1, 64, kernel_size=(3, 3), stride=(1, 1), padding=(1, 1))\n",
              "    (1): ReLU()\n",
              "    (2): MaxPool2d(kernel_size=2, stride=2, padding=0, dilation=1, ceil_mode=False)\n",
              "  )\n",
              "  (conv2): Sequential(\n",
              "    (0): Conv2d(64, 128, kernel_size=(3, 3), stride=(1, 1), padding=(1, 1))\n",
              "    (1): ReLU()\n",
              "    (2): MaxPool2d(kernel_size=2, stride=2, padding=0, dilation=1, ceil_mode=False)\n",
              "  )\n",
              "  (fc): Linear(in_features=6272, out_features=10, bias=True)\n",
              ")"
            ]
          },
          "metadata": {
            "tags": []
          },
          "execution_count": 16
        }
      ]
    },
    {
      "cell_type": "code",
      "metadata": {
        "id": "apSrTmEFgv4b"
      },
      "source": [
        "def evaluate(model, dataloader):\n",
        "    model.eval()\n",
        "    model.to(device)\n",
        "    bar = tqdm(dataloader['test'])\n",
        "    acc = []\n",
        "    with torch.no_grad():\n",
        "        for batch in bar:\n",
        "            X, y = batch\n",
        "            X, y = X.to(device), y.to(device)\n",
        "            y_hat = model(X)\n",
        "            acc.append((y == torch.argmax(y_hat, axis=1)).sum().item() / len(y))\n",
        "            bar.set_description(f\"acc {np.mean(acc):.5f}\")"
      ],
      "execution_count": null,
      "outputs": []
    },
    {
      "cell_type": "code",
      "metadata": {
        "id": "mog1S2vtgzPg",
        "colab": {
          "base_uri": "https://localhost:8080/"
        },
        "outputId": "4e67146e-b21b-46c4-da19-fd814d979a2f"
      },
      "source": [
        "evaluate(model, dataloader)"
      ],
      "execution_count": null,
      "outputs": [
        {
          "output_type": "stream",
          "text": [
            "acc 0.98739: 100%|██████████| 5/5 [00:01<00:00,  3.47it/s]\n"
          ],
          "name": "stderr"
        }
      ]
    },
    {
      "cell_type": "markdown",
      "metadata": {
        "id": "qmV_4YVL8CJW"
      },
      "source": [
        "# Aplicación a las CNN"
      ]
    },
    {
      "cell_type": "code",
      "metadata": {
        "id": "GeRgVlos_g3A"
      },
      "source": [
        "%matplotlib notebook\n",
        "import matplotlib.pyplot as plt\n",
        "from matplotlib import animation\n",
        "import numpy as np\n",
        "import pandas as pd\n",
        "import torch"
      ],
      "execution_count": null,
      "outputs": []
    },
    {
      "cell_type": "code",
      "metadata": {
        "colab": {
          "base_uri": "https://localhost:8080/",
          "height": 415
        },
        "id": "qF_W7TAa7zYx",
        "outputId": "fb1b9d2f-e50b-416d-babd-b89f6e17bdf9"
      },
      "source": [
        "!wget -c https://archive.ics.uci.edu/ml/machine-learning-databases/breast-cancer-wisconsin/wdbc.data\n",
        "\n",
        "df = pd.read_csv('wdbc.data', index_col=0, header=None)\n",
        "label = df[1].replace(['M', 'B'], [0, 1]).values.astype('float32')\n",
        "data = df.loc[:, 2:].values.astype('float32')\n",
        "fig, ax = plt.subplots(figsize=(5, 3), tight_layout=True)\n",
        "ax.hist(label);\n",
        "\n",
        "!rm wdbc.data"
      ],
      "execution_count": null,
      "outputs": [
        {
          "output_type": "stream",
          "text": [
            "--2021-05-23 12:43:53--  https://archive.ics.uci.edu/ml/machine-learning-databases/breast-cancer-wisconsin/wdbc.data\n",
            "Resolving archive.ics.uci.edu (archive.ics.uci.edu)... 128.195.10.252\n",
            "Connecting to archive.ics.uci.edu (archive.ics.uci.edu)|128.195.10.252|:443... connected.\n",
            "HTTP request sent, awaiting response... 200 OK\n",
            "Length: 124103 (121K) [application/x-httpd-php]\n",
            "Saving to: ‘wdbc.data’\n",
            "\n",
            "wdbc.data           100%[===================>] 121.19K  --.-KB/s    in 0.09s   \n",
            "\n",
            "2021-05-23 12:43:53 (1.39 MB/s) - ‘wdbc.data’ saved [124103/124103]\n",
            "\n"
          ],
          "name": "stdout"
        },
        {
          "output_type": "display_data",
          "data": {
            "image/png": "[encoded data removed]",
            "text/plain": [
              "<Figure size 360x216 with 1 Axes>"
            ]
          },
          "metadata": {
            "tags": [],
            "needs_background": "light"
          }
        }
      ]
    },
    {
      "cell_type": "code",
      "metadata": {
        "colab": {
          "base_uri": "https://localhost:8080/",
          "height": 248
        },
        "id": "kb7smz-38fZf",
        "outputId": "4582b7f4-9ac0-4ebb-ceb8-17a548f29905"
      },
      "source": [
        "df.head()"
      ],
      "execution_count": null,
      "outputs": [
        {
          "output_type": "execute_result",
          "data": {
            "text/html": [
              "<div>\n",
              "<style scoped>\n",
              "    .dataframe tbody tr th:only-of-type {\n",
              "        vertical-align: middle;\n",
              "    }\n",
              "\n",
              "    .dataframe tbody tr th {\n",
              "        vertical-align: top;\n",
              "    }\n",
              "\n",
              "    .dataframe thead th {\n",
              "        text-align: right;\n",
              "    }\n",
              "</style>\n",
              "<table border=\"1\" class=\"dataframe\">\n",
              "  <thead>\n",
              "    <tr style=\"text-align: right;\">\n",
              "      <th></th>\n",
              "      <th>1</th>\n",
              "      <th>2</th>\n",
              "      <th>3</th>\n",
              "      <th>4</th>\n",
              "      <th>5</th>\n",
              "      <th>6</th>\n",
              "      <th>7</th>\n",
              "      <th>8</th>\n",
              "      <th>9</th>\n",
              "      <th>10</th>\n",
              "      <th>11</th>\n",
              "      <th>12</th>\n",
              "      <th>13</th>\n",
              "      <th>14</th>\n",
              "      <th>15</th>\n",
              "      <th>16</th>\n",
              "      <th>17</th>\n",
              "      <th>18</th>\n",
              "      <th>19</th>\n",
              "      <th>20</th>\n",
              "      <th>21</th>\n",
              "      <th>22</th>\n",
              "      <th>23</th>\n",
              "      <th>24</th>\n",
              "      <th>25</th>\n",
              "      <th>26</th>\n",
              "      <th>27</th>\n",
              "      <th>28</th>\n",
              "      <th>29</th>\n",
              "      <th>30</th>\n",
              "      <th>31</th>\n",
              "    </tr>\n",
              "    <tr>\n",
              "      <th>0</th>\n",
              "      <th></th>\n",
              "      <th></th>\n",
              "      <th></th>\n",
              "      <th></th>\n",
              "      <th></th>\n",
              "      <th></th>\n",
              "      <th></th>\n",
              "      <th></th>\n",
              "      <th></th>\n",
              "      <th></th>\n",
              "      <th></th>\n",
              "      <th></th>\n",
              "      <th></th>\n",
              "      <th></th>\n",
              "      <th></th>\n",
              "      <th></th>\n",
              "      <th></th>\n",
              "      <th></th>\n",
              "      <th></th>\n",
              "      <th></th>\n",
              "      <th></th>\n",
              "      <th></th>\n",
              "      <th></th>\n",
              "      <th></th>\n",
              "      <th></th>\n",
              "      <th></th>\n",
              "      <th></th>\n",
              "      <th></th>\n",
              "      <th></th>\n",
              "      <th></th>\n",
              "      <th></th>\n",
              "    </tr>\n",
              "  </thead>\n",
              "  <tbody>\n",
              "    <tr>\n",
              "      <th>842302</th>\n",
              "      <td>M</td>\n",
              "      <td>17.99</td>\n",
              "      <td>10.38</td>\n",
              "      <td>122.80</td>\n",
              "      <td>1001.0</td>\n",
              "      <td>0.11840</td>\n",
              "      <td>0.27760</td>\n",
              "      <td>0.3001</td>\n",
              "      <td>0.14710</td>\n",
              "      <td>0.2419</td>\n",
              "      <td>0.07871</td>\n",
              "      <td>1.0950</td>\n",
              "      <td>0.9053</td>\n",
              "      <td>8.589</td>\n",
              "      <td>153.40</td>\n",
              "      <td>0.006399</td>\n",
              "      <td>0.04904</td>\n",
              "      <td>0.05373</td>\n",
              "      <td>0.01587</td>\n",
              "      <td>0.03003</td>\n",
              "      <td>0.006193</td>\n",
              "      <td>25.38</td>\n",
              "      <td>17.33</td>\n",
              "      <td>184.60</td>\n",
              "      <td>2019.0</td>\n",
              "      <td>0.1622</td>\n",
              "      <td>0.6656</td>\n",
              "      <td>0.7119</td>\n",
              "      <td>0.2654</td>\n",
              "      <td>0.4601</td>\n",
              "      <td>0.11890</td>\n",
              "    </tr>\n",
              "    <tr>\n",
              "      <th>842517</th>\n",
              "      <td>M</td>\n",
              "      <td>20.57</td>\n",
              "      <td>17.77</td>\n",
              "      <td>132.90</td>\n",
              "      <td>1326.0</td>\n",
              "      <td>0.08474</td>\n",
              "      <td>0.07864</td>\n",
              "      <td>0.0869</td>\n",
              "      <td>0.07017</td>\n",
              "      <td>0.1812</td>\n",
              "      <td>0.05667</td>\n",
              "      <td>0.5435</td>\n",
              "      <td>0.7339</td>\n",
              "      <td>3.398</td>\n",
              "      <td>74.08</td>\n",
              "      <td>0.005225</td>\n",
              "      <td>0.01308</td>\n",
              "      <td>0.01860</td>\n",
              "      <td>0.01340</td>\n",
              "      <td>0.01389</td>\n",
              "      <td>0.003532</td>\n",
              "      <td>24.99</td>\n",
              "      <td>23.41</td>\n",
              "      <td>158.80</td>\n",
              "      <td>1956.0</td>\n",
              "      <td>0.1238</td>\n",
              "      <td>0.1866</td>\n",
              "      <td>0.2416</td>\n",
              "      <td>0.1860</td>\n",
              "      <td>0.2750</td>\n",
              "      <td>0.08902</td>\n",
              "    </tr>\n",
              "    <tr>\n",
              "      <th>84300903</th>\n",
              "      <td>M</td>\n",
              "      <td>19.69</td>\n",
              "      <td>21.25</td>\n",
              "      <td>130.00</td>\n",
              "      <td>1203.0</td>\n",
              "      <td>0.10960</td>\n",
              "      <td>0.15990</td>\n",
              "      <td>0.1974</td>\n",
              "      <td>0.12790</td>\n",
              "      <td>0.2069</td>\n",
              "      <td>0.05999</td>\n",
              "      <td>0.7456</td>\n",
              "      <td>0.7869</td>\n",
              "      <td>4.585</td>\n",
              "      <td>94.03</td>\n",
              "      <td>0.006150</td>\n",
              "      <td>0.04006</td>\n",
              "      <td>0.03832</td>\n",
              "      <td>0.02058</td>\n",
              "      <td>0.02250</td>\n",
              "      <td>0.004571</td>\n",
              "      <td>23.57</td>\n",
              "      <td>25.53</td>\n",
              "      <td>152.50</td>\n",
              "      <td>1709.0</td>\n",
              "      <td>0.1444</td>\n",
              "      <td>0.4245</td>\n",
              "      <td>0.4504</td>\n",
              "      <td>0.2430</td>\n",
              "      <td>0.3613</td>\n",
              "      <td>0.08758</td>\n",
              "    </tr>\n",
              "    <tr>\n",
              "      <th>84348301</th>\n",
              "      <td>M</td>\n",
              "      <td>11.42</td>\n",
              "      <td>20.38</td>\n",
              "      <td>77.58</td>\n",
              "      <td>386.1</td>\n",
              "      <td>0.14250</td>\n",
              "      <td>0.28390</td>\n",
              "      <td>0.2414</td>\n",
              "      <td>0.10520</td>\n",
              "      <td>0.2597</td>\n",
              "      <td>0.09744</td>\n",
              "      <td>0.4956</td>\n",
              "      <td>1.1560</td>\n",
              "      <td>3.445</td>\n",
              "      <td>27.23</td>\n",
              "      <td>0.009110</td>\n",
              "      <td>0.07458</td>\n",
              "      <td>0.05661</td>\n",
              "      <td>0.01867</td>\n",
              "      <td>0.05963</td>\n",
              "      <td>0.009208</td>\n",
              "      <td>14.91</td>\n",
              "      <td>26.50</td>\n",
              "      <td>98.87</td>\n",
              "      <td>567.7</td>\n",
              "      <td>0.2098</td>\n",
              "      <td>0.8663</td>\n",
              "      <td>0.6869</td>\n",
              "      <td>0.2575</td>\n",
              "      <td>0.6638</td>\n",
              "      <td>0.17300</td>\n",
              "    </tr>\n",
              "    <tr>\n",
              "      <th>84358402</th>\n",
              "      <td>M</td>\n",
              "      <td>20.29</td>\n",
              "      <td>14.34</td>\n",
              "      <td>135.10</td>\n",
              "      <td>1297.0</td>\n",
              "      <td>0.10030</td>\n",
              "      <td>0.13280</td>\n",
              "      <td>0.1980</td>\n",
              "      <td>0.10430</td>\n",
              "      <td>0.1809</td>\n",
              "      <td>0.05883</td>\n",
              "      <td>0.7572</td>\n",
              "      <td>0.7813</td>\n",
              "      <td>5.438</td>\n",
              "      <td>94.44</td>\n",
              "      <td>0.011490</td>\n",
              "      <td>0.02461</td>\n",
              "      <td>0.05688</td>\n",
              "      <td>0.01885</td>\n",
              "      <td>0.01756</td>\n",
              "      <td>0.005115</td>\n",
              "      <td>22.54</td>\n",
              "      <td>16.67</td>\n",
              "      <td>152.20</td>\n",
              "      <td>1575.0</td>\n",
              "      <td>0.1374</td>\n",
              "      <td>0.2050</td>\n",
              "      <td>0.4000</td>\n",
              "      <td>0.1625</td>\n",
              "      <td>0.2364</td>\n",
              "      <td>0.07678</td>\n",
              "    </tr>\n",
              "  </tbody>\n",
              "</table>\n",
              "</div>"
            ],
            "text/plain": [
              "         1      2      3       4   ...      28      29      30       31\n",
              "0                                  ...                                 \n",
              "842302    M  17.99  10.38  122.80  ...  0.7119  0.2654  0.4601  0.11890\n",
              "842517    M  20.57  17.77  132.90  ...  0.2416  0.1860  0.2750  0.08902\n",
              "84300903  M  19.69  21.25  130.00  ...  0.4504  0.2430  0.3613  0.08758\n",
              "84348301  M  11.42  20.38   77.58  ...  0.6869  0.2575  0.6638  0.17300\n",
              "84358402  M  20.29  14.34  135.10  ...  0.4000  0.1625  0.2364  0.07678\n",
              "\n",
              "[5 rows x 31 columns]"
            ]
          },
          "metadata": {
            "tags": []
          },
          "execution_count": 3
        }
      ]
    },
    {
      "cell_type": "code",
      "metadata": {
        "id": "eZf_XBMTQt-s"
      },
      "source": [
        ""
      ],
      "execution_count": null,
      "outputs": []
    }
  ]
}